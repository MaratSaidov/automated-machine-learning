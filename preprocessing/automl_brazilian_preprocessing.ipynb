{
  "nbformat": 4,
  "nbformat_minor": 0,
  "metadata": {
    "colab": {
      "name": "automl-brazilian-preprocessing.ipynb",
      "provenance": [],
      "collapsed_sections": []
    },
    "kernelspec": {
      "name": "python3",
      "display_name": "Python 3"
    }
  },
  "cells": [
    {
      "cell_type": "code",
      "metadata": {
        "id": "_gVws4Q-GQ7R",
        "colab_type": "code",
        "outputId": "d680d696-58aa-4142-ca2b-833957ec551d",
        "colab": {
          "base_uri": "https://localhost:8080/",
          "height": 528
        }
      },
      "source": [
        "!pip install featuretools"
      ],
      "execution_count": 1,
      "outputs": [
        {
          "output_type": "stream",
          "text": [
            "Requirement already satisfied: featuretools in /usr/local/lib/python3.6/dist-packages (0.4.1)\n",
            "Requirement already satisfied: s3fs>=0.1.2 in /usr/local/lib/python3.6/dist-packages (from featuretools) (0.4.2)\n",
            "Requirement already satisfied: pandas>=0.23.0 in /usr/local/lib/python3.6/dist-packages (from featuretools) (1.0.3)\n",
            "Requirement already satisfied: numpy>=1.13.3 in /usr/local/lib/python3.6/dist-packages (from featuretools) (1.18.4)\n",
            "Requirement already satisfied: toolz>=0.8.2 in /usr/local/lib/python3.6/dist-packages (from featuretools) (0.10.0)\n",
            "Requirement already satisfied: dask>=0.19.4 in /usr/local/lib/python3.6/dist-packages (from featuretools) (2.12.0)\n",
            "Requirement already satisfied: distributed>=1.24.2 in /usr/local/lib/python3.6/dist-packages (from featuretools) (1.25.3)\n",
            "Requirement already satisfied: psutil>=5.4.8 in /usr/local/lib/python3.6/dist-packages (from featuretools) (5.4.8)\n",
            "Requirement already satisfied: tqdm>=4.19.2 in /usr/local/lib/python3.6/dist-packages (from featuretools) (4.41.1)\n",
            "Requirement already satisfied: future>=0.16.0 in /usr/local/lib/python3.6/dist-packages (from featuretools) (0.16.0)\n",
            "Requirement already satisfied: cloudpickle>=0.4.0 in /usr/local/lib/python3.6/dist-packages (from featuretools) (1.3.0)\n",
            "Requirement already satisfied: pyyaml>=3.12 in /usr/local/lib/python3.6/dist-packages (from featuretools) (3.13)\n",
            "Requirement already satisfied: fsspec>=0.6.0 in /usr/local/lib/python3.6/dist-packages (from s3fs>=0.1.2->featuretools) (0.7.4)\n",
            "Requirement already satisfied: botocore>=1.12.91 in /usr/local/lib/python3.6/dist-packages (from s3fs>=0.1.2->featuretools) (1.16.13)\n",
            "Requirement already satisfied: python-dateutil>=2.6.1 in /usr/local/lib/python3.6/dist-packages (from pandas>=0.23.0->featuretools) (2.8.1)\n",
            "Requirement already satisfied: pytz>=2017.2 in /usr/local/lib/python3.6/dist-packages (from pandas>=0.23.0->featuretools) (2018.9)\n",
            "Requirement already satisfied: click>=6.6 in /usr/local/lib/python3.6/dist-packages (from distributed>=1.24.2->featuretools) (7.1.2)\n",
            "Requirement already satisfied: tblib in /usr/local/lib/python3.6/dist-packages (from distributed>=1.24.2->featuretools) (1.6.0)\n",
            "Requirement already satisfied: msgpack in /usr/local/lib/python3.6/dist-packages (from distributed>=1.24.2->featuretools) (1.0.0)\n",
            "Requirement already satisfied: sortedcontainers!=2.0.0,!=2.0.1 in /usr/local/lib/python3.6/dist-packages (from distributed>=1.24.2->featuretools) (2.1.0)\n",
            "Requirement already satisfied: zict>=0.1.3 in /usr/local/lib/python3.6/dist-packages (from distributed>=1.24.2->featuretools) (2.0.0)\n",
            "Requirement already satisfied: tornado>=4.5.1 in /usr/local/lib/python3.6/dist-packages (from distributed>=1.24.2->featuretools) (4.5.3)\n",
            "Requirement already satisfied: six in /usr/local/lib/python3.6/dist-packages (from distributed>=1.24.2->featuretools) (1.12.0)\n",
            "Requirement already satisfied: docutils<0.16,>=0.10 in /usr/local/lib/python3.6/dist-packages (from botocore>=1.12.91->s3fs>=0.1.2->featuretools) (0.15.2)\n",
            "Requirement already satisfied: jmespath<1.0.0,>=0.7.1 in /usr/local/lib/python3.6/dist-packages (from botocore>=1.12.91->s3fs>=0.1.2->featuretools) (0.10.0)\n",
            "Requirement already satisfied: urllib3<1.26,>=1.20; python_version != \"3.4\" in /usr/local/lib/python3.6/dist-packages (from botocore>=1.12.91->s3fs>=0.1.2->featuretools) (1.24.3)\n",
            "Requirement already satisfied: heapdict in /usr/local/lib/python3.6/dist-packages (from zict>=0.1.3->distributed>=1.24.2->featuretools) (1.0.1)\n"
          ],
          "name": "stdout"
        }
      ]
    },
    {
      "cell_type": "code",
      "metadata": {
        "id": "W0gYtSM4FIZR",
        "colab_type": "code",
        "colab": {
          "base_uri": "https://localhost:8080/",
          "height": 74
        },
        "outputId": "c25f2932-13df-4002-d4c4-983529f6efd5"
      },
      "source": [
        "import pandas as pd\n",
        "import numpy as np\n",
        "import featuretools as ft\n",
        "\n",
        "import matplotlib.pyplot as plt\n",
        "plt.rcParams['font.size'] = 22\n",
        "import seaborn as sns\n",
        "\n",
        "import warnings\n",
        "warnings.filterwarnings('ignore')"
      ],
      "execution_count": 2,
      "outputs": [
        {
          "output_type": "stream",
          "text": [
            "/usr/local/lib/python3.6/dist-packages/statsmodels/tools/_testing.py:19: FutureWarning: pandas.util.testing is deprecated. Use the functions in the public API at pandas.testing instead.\n",
            "  import pandas.util.testing as tm\n"
          ],
          "name": "stderr"
        }
      ]
    },
    {
      "cell_type": "code",
      "metadata": {
        "id": "IiH8o266HUzr",
        "colab_type": "code",
        "colab": {}
      },
      "source": [
        "prefix = \"drive/My Drive/automl/data/\""
      ],
      "execution_count": 0,
      "outputs": []
    },
    {
      "cell_type": "markdown",
      "metadata": {
        "id": "VsHj9-MZHqUg",
        "colab_type": "text"
      },
      "source": [
        "# **Диаграмма организации БД:**"
      ]
    },
    {
      "cell_type": "markdown",
      "metadata": {
        "id": "zcw1T427Hy9-",
        "colab_type": "text"
      },
      "source": [
        "![data organization](https://i.imgur.com/HRhd2Y0.png)"
      ]
    },
    {
      "cell_type": "markdown",
      "metadata": {
        "id": "tMGVDdiLHF9e",
        "colab_type": "text"
      },
      "source": [
        "# **Посмотрим на наши сущности:**"
      ]
    },
    {
      "cell_type": "markdown",
      "metadata": {
        "id": "_50eYdAUHNnD",
        "colab_type": "text"
      },
      "source": [
        "### product-category-name-translation:"
      ]
    },
    {
      "cell_type": "code",
      "metadata": {
        "id": "S6eos9q3G95j",
        "colab_type": "code",
        "outputId": "cbb7ef0b-c8d6-436d-d123-400e2b033eec",
        "colab": {
          "base_uri": "https://localhost:8080/",
          "height": 198
        }
      },
      "source": [
        "product_category = pd.read_csv(prefix + \"product_category_name_translation.csv\")\n",
        "product_category.head()"
      ],
      "execution_count": 4,
      "outputs": [
        {
          "output_type": "execute_result",
          "data": {
            "text/html": [
              "<div>\n",
              "<style scoped>\n",
              "    .dataframe tbody tr th:only-of-type {\n",
              "        vertical-align: middle;\n",
              "    }\n",
              "\n",
              "    .dataframe tbody tr th {\n",
              "        vertical-align: top;\n",
              "    }\n",
              "\n",
              "    .dataframe thead th {\n",
              "        text-align: right;\n",
              "    }\n",
              "</style>\n",
              "<table border=\"1\" class=\"dataframe\">\n",
              "  <thead>\n",
              "    <tr style=\"text-align: right;\">\n",
              "      <th></th>\n",
              "      <th>product_category_name</th>\n",
              "      <th>product_category_name_english</th>\n",
              "    </tr>\n",
              "  </thead>\n",
              "  <tbody>\n",
              "    <tr>\n",
              "      <th>0</th>\n",
              "      <td>beleza_saude</td>\n",
              "      <td>health_beauty</td>\n",
              "    </tr>\n",
              "    <tr>\n",
              "      <th>1</th>\n",
              "      <td>informatica_acessorios</td>\n",
              "      <td>computers_accessories</td>\n",
              "    </tr>\n",
              "    <tr>\n",
              "      <th>2</th>\n",
              "      <td>automotivo</td>\n",
              "      <td>auto</td>\n",
              "    </tr>\n",
              "    <tr>\n",
              "      <th>3</th>\n",
              "      <td>cama_mesa_banho</td>\n",
              "      <td>bed_bath_table</td>\n",
              "    </tr>\n",
              "    <tr>\n",
              "      <th>4</th>\n",
              "      <td>moveis_decoracao</td>\n",
              "      <td>furniture_decor</td>\n",
              "    </tr>\n",
              "  </tbody>\n",
              "</table>\n",
              "</div>"
            ],
            "text/plain": [
              "    product_category_name product_category_name_english\n",
              "0            beleza_saude                 health_beauty\n",
              "1  informatica_acessorios         computers_accessories\n",
              "2              automotivo                          auto\n",
              "3         cama_mesa_banho                bed_bath_table\n",
              "4        moveis_decoracao               furniture_decor"
            ]
          },
          "metadata": {
            "tags": []
          },
          "execution_count": 4
        }
      ]
    },
    {
      "cell_type": "markdown",
      "metadata": {
        "id": "KH7SZoJtHkKY",
        "colab_type": "text"
      },
      "source": [
        "Здесь описываются переводы названий категорий с португальского на английский."
      ]
    },
    {
      "cell_type": "markdown",
      "metadata": {
        "id": "FBqSiFBEIFsu",
        "colab_type": "text"
      },
      "source": [
        "### olist-sellers-dataset:"
      ]
    },
    {
      "cell_type": "code",
      "metadata": {
        "id": "1FYuvSlaHhl3",
        "colab_type": "code",
        "outputId": "72191e30-d0f3-4777-8ca4-0933f2bf36b2",
        "colab": {
          "base_uri": "https://localhost:8080/",
          "height": 198
        }
      },
      "source": [
        "olist_sellers = pd.read_csv(prefix + \"olist_sellers_dataset.csv\")\n",
        "olist_sellers.head()"
      ],
      "execution_count": 5,
      "outputs": [
        {
          "output_type": "execute_result",
          "data": {
            "text/html": [
              "<div>\n",
              "<style scoped>\n",
              "    .dataframe tbody tr th:only-of-type {\n",
              "        vertical-align: middle;\n",
              "    }\n",
              "\n",
              "    .dataframe tbody tr th {\n",
              "        vertical-align: top;\n",
              "    }\n",
              "\n",
              "    .dataframe thead th {\n",
              "        text-align: right;\n",
              "    }\n",
              "</style>\n",
              "<table border=\"1\" class=\"dataframe\">\n",
              "  <thead>\n",
              "    <tr style=\"text-align: right;\">\n",
              "      <th></th>\n",
              "      <th>seller_id</th>\n",
              "      <th>seller_zip_code_prefix</th>\n",
              "      <th>seller_city</th>\n",
              "      <th>seller_state</th>\n",
              "    </tr>\n",
              "  </thead>\n",
              "  <tbody>\n",
              "    <tr>\n",
              "      <th>0</th>\n",
              "      <td>3442f8959a84dea7ee197c632cb2df15</td>\n",
              "      <td>13023</td>\n",
              "      <td>campinas</td>\n",
              "      <td>SP</td>\n",
              "    </tr>\n",
              "    <tr>\n",
              "      <th>1</th>\n",
              "      <td>d1b65fc7debc3361ea86b5f14c68d2e2</td>\n",
              "      <td>13844</td>\n",
              "      <td>mogi guacu</td>\n",
              "      <td>SP</td>\n",
              "    </tr>\n",
              "    <tr>\n",
              "      <th>2</th>\n",
              "      <td>ce3ad9de960102d0677a81f5d0bb7b2d</td>\n",
              "      <td>20031</td>\n",
              "      <td>rio de janeiro</td>\n",
              "      <td>RJ</td>\n",
              "    </tr>\n",
              "    <tr>\n",
              "      <th>3</th>\n",
              "      <td>c0f3eea2e14555b6faeea3dd58c1b1c3</td>\n",
              "      <td>4195</td>\n",
              "      <td>sao paulo</td>\n",
              "      <td>SP</td>\n",
              "    </tr>\n",
              "    <tr>\n",
              "      <th>4</th>\n",
              "      <td>51a04a8a6bdcb23deccc82b0b80742cf</td>\n",
              "      <td>12914</td>\n",
              "      <td>braganca paulista</td>\n",
              "      <td>SP</td>\n",
              "    </tr>\n",
              "  </tbody>\n",
              "</table>\n",
              "</div>"
            ],
            "text/plain": [
              "                          seller_id  ...  seller_state\n",
              "0  3442f8959a84dea7ee197c632cb2df15  ...            SP\n",
              "1  d1b65fc7debc3361ea86b5f14c68d2e2  ...            SP\n",
              "2  ce3ad9de960102d0677a81f5d0bb7b2d  ...            RJ\n",
              "3  c0f3eea2e14555b6faeea3dd58c1b1c3  ...            SP\n",
              "4  51a04a8a6bdcb23deccc82b0b80742cf  ...            SP\n",
              "\n",
              "[5 rows x 4 columns]"
            ]
          },
          "metadata": {
            "tags": []
          },
          "execution_count": 5
        }
      ]
    },
    {
      "cell_type": "code",
      "metadata": {
        "id": "ZN7PyHtrsrkO",
        "colab_type": "code",
        "colab": {}
      },
      "source": [
        "# Сохраним категориальные признаки для последующего использования one-hot-encoding\n",
        "categorical = ['seller_city', 'seller_state']"
      ],
      "execution_count": 0,
      "outputs": []
    },
    {
      "cell_type": "markdown",
      "metadata": {
        "id": "JacUZbtOIT5K",
        "colab_type": "text"
      },
      "source": [
        "Датасет описывает местоположение продавцов."
      ]
    },
    {
      "cell_type": "markdown",
      "metadata": {
        "id": "CdJk8sGVIZ-v",
        "colab_type": "text"
      },
      "source": [
        "### olist-products-dataset:"
      ]
    },
    {
      "cell_type": "code",
      "metadata": {
        "id": "hX2Vydr9IRID",
        "colab_type": "code",
        "outputId": "35121320-4aa3-4123-ef4c-566856d072d4",
        "colab": {
          "base_uri": "https://localhost:8080/",
          "height": 218
        }
      },
      "source": [
        "olist_products = pd.read_csv(prefix + \"olist_products_dataset.csv\")\n",
        "olist_products.head()"
      ],
      "execution_count": 7,
      "outputs": [
        {
          "output_type": "execute_result",
          "data": {
            "text/html": [
              "<div>\n",
              "<style scoped>\n",
              "    .dataframe tbody tr th:only-of-type {\n",
              "        vertical-align: middle;\n",
              "    }\n",
              "\n",
              "    .dataframe tbody tr th {\n",
              "        vertical-align: top;\n",
              "    }\n",
              "\n",
              "    .dataframe thead th {\n",
              "        text-align: right;\n",
              "    }\n",
              "</style>\n",
              "<table border=\"1\" class=\"dataframe\">\n",
              "  <thead>\n",
              "    <tr style=\"text-align: right;\">\n",
              "      <th></th>\n",
              "      <th>product_id</th>\n",
              "      <th>product_category_name</th>\n",
              "      <th>product_name_lenght</th>\n",
              "      <th>product_description_lenght</th>\n",
              "      <th>product_photos_qty</th>\n",
              "      <th>product_weight_g</th>\n",
              "      <th>product_length_cm</th>\n",
              "      <th>product_height_cm</th>\n",
              "      <th>product_width_cm</th>\n",
              "    </tr>\n",
              "  </thead>\n",
              "  <tbody>\n",
              "    <tr>\n",
              "      <th>0</th>\n",
              "      <td>1e9e8ef04dbcff4541ed26657ea517e5</td>\n",
              "      <td>perfumaria</td>\n",
              "      <td>40.0</td>\n",
              "      <td>287.0</td>\n",
              "      <td>1.0</td>\n",
              "      <td>225.0</td>\n",
              "      <td>16.0</td>\n",
              "      <td>10.0</td>\n",
              "      <td>14.0</td>\n",
              "    </tr>\n",
              "    <tr>\n",
              "      <th>1</th>\n",
              "      <td>3aa071139cb16b67ca9e5dea641aaa2f</td>\n",
              "      <td>artes</td>\n",
              "      <td>44.0</td>\n",
              "      <td>276.0</td>\n",
              "      <td>1.0</td>\n",
              "      <td>1000.0</td>\n",
              "      <td>30.0</td>\n",
              "      <td>18.0</td>\n",
              "      <td>20.0</td>\n",
              "    </tr>\n",
              "    <tr>\n",
              "      <th>2</th>\n",
              "      <td>96bd76ec8810374ed1b65e291975717f</td>\n",
              "      <td>esporte_lazer</td>\n",
              "      <td>46.0</td>\n",
              "      <td>250.0</td>\n",
              "      <td>1.0</td>\n",
              "      <td>154.0</td>\n",
              "      <td>18.0</td>\n",
              "      <td>9.0</td>\n",
              "      <td>15.0</td>\n",
              "    </tr>\n",
              "    <tr>\n",
              "      <th>3</th>\n",
              "      <td>cef67bcfe19066a932b7673e239eb23d</td>\n",
              "      <td>bebes</td>\n",
              "      <td>27.0</td>\n",
              "      <td>261.0</td>\n",
              "      <td>1.0</td>\n",
              "      <td>371.0</td>\n",
              "      <td>26.0</td>\n",
              "      <td>4.0</td>\n",
              "      <td>26.0</td>\n",
              "    </tr>\n",
              "    <tr>\n",
              "      <th>4</th>\n",
              "      <td>9dc1a7de274444849c219cff195d0b71</td>\n",
              "      <td>utilidades_domesticas</td>\n",
              "      <td>37.0</td>\n",
              "      <td>402.0</td>\n",
              "      <td>4.0</td>\n",
              "      <td>625.0</td>\n",
              "      <td>20.0</td>\n",
              "      <td>17.0</td>\n",
              "      <td>13.0</td>\n",
              "    </tr>\n",
              "  </tbody>\n",
              "</table>\n",
              "</div>"
            ],
            "text/plain": [
              "                         product_id  ... product_width_cm\n",
              "0  1e9e8ef04dbcff4541ed26657ea517e5  ...             14.0\n",
              "1  3aa071139cb16b67ca9e5dea641aaa2f  ...             20.0\n",
              "2  96bd76ec8810374ed1b65e291975717f  ...             15.0\n",
              "3  cef67bcfe19066a932b7673e239eb23d  ...             26.0\n",
              "4  9dc1a7de274444849c219cff195d0b71  ...             13.0\n",
              "\n",
              "[5 rows x 9 columns]"
            ]
          },
          "metadata": {
            "tags": []
          },
          "execution_count": 7
        }
      ]
    },
    {
      "cell_type": "code",
      "metadata": {
        "id": "8icmNfScsz1r",
        "colab_type": "code",
        "colab": {}
      },
      "source": [
        "categorical.append('product_category_name')"
      ],
      "execution_count": 0,
      "outputs": []
    },
    {
      "cell_type": "code",
      "metadata": {
        "id": "q8_Q2I3KJbKb",
        "colab_type": "code",
        "outputId": "499a79c1-62b2-459b-c33c-ba9d91c2cd79",
        "colab": {
          "base_uri": "https://localhost:8080/",
          "height": 324
        }
      },
      "source": [
        "# Посмотрим на категории товаров и на их распределения\n",
        "TOP = 10\n",
        "\n",
        "ax = sns.countplot(y='product_category_name', data=olist_products, palette=\"Greens_d\",\n",
        "              order=olist_products['product_category_name'].value_counts().iloc[:TOP].index, orient='h')"
      ],
      "execution_count": 9,
      "outputs": [
        {
          "output_type": "display_data",
          "data": {
            "image/png": "[encoded data removed]",
            "text/plain": [
              "<Figure size 432x288 with 1 Axes>"
            ]
          },
          "metadata": {
            "tags": [],
            "needs_background": "light"
          }
        }
      ]
    },
    {
      "cell_type": "markdown",
      "metadata": {
        "id": "TJyol4zNJJJ4",
        "colab_type": "text"
      },
      "source": [
        "В датасете содержатся характеристики товаров: вес, высота и т.д."
      ]
    },
    {
      "cell_type": "markdown",
      "metadata": {
        "id": "EVumwfmCJOkb",
        "colab_type": "text"
      },
      "source": [
        "### olist-orders-dataset:"
      ]
    },
    {
      "cell_type": "code",
      "metadata": {
        "id": "hdkMInguIneG",
        "colab_type": "code",
        "outputId": "b7cb3c7b-15ae-4422-9e99-81d7edbc5e23",
        "colab": {
          "base_uri": "https://localhost:8080/",
          "height": 218
        }
      },
      "source": [
        "olist_orders = pd.read_csv(prefix + \"olist_orders_dataset.csv\")\n",
        "olist_orders.head()"
      ],
      "execution_count": 10,
      "outputs": [
        {
          "output_type": "execute_result",
          "data": {
            "text/html": [
              "<div>\n",
              "<style scoped>\n",
              "    .dataframe tbody tr th:only-of-type {\n",
              "        vertical-align: middle;\n",
              "    }\n",
              "\n",
              "    .dataframe tbody tr th {\n",
              "        vertical-align: top;\n",
              "    }\n",
              "\n",
              "    .dataframe thead th {\n",
              "        text-align: right;\n",
              "    }\n",
              "</style>\n",
              "<table border=\"1\" class=\"dataframe\">\n",
              "  <thead>\n",
              "    <tr style=\"text-align: right;\">\n",
              "      <th></th>\n",
              "      <th>order_id</th>\n",
              "      <th>customer_id</th>\n",
              "      <th>order_status</th>\n",
              "      <th>order_purchase_timestamp</th>\n",
              "      <th>order_approved_at</th>\n",
              "      <th>order_delivered_carrier_date</th>\n",
              "      <th>order_delivered_customer_date</th>\n",
              "      <th>order_estimated_delivery_date</th>\n",
              "    </tr>\n",
              "  </thead>\n",
              "  <tbody>\n",
              "    <tr>\n",
              "      <th>0</th>\n",
              "      <td>e481f51cbdc54678b7cc49136f2d6af7</td>\n",
              "      <td>9ef432eb6251297304e76186b10a928d</td>\n",
              "      <td>delivered</td>\n",
              "      <td>2017-10-02 10:56:33</td>\n",
              "      <td>2017-10-02 11:07:15</td>\n",
              "      <td>2017-10-04 19:55:00</td>\n",
              "      <td>2017-10-10 21:25:13</td>\n",
              "      <td>2017-10-18 00:00:00</td>\n",
              "    </tr>\n",
              "    <tr>\n",
              "      <th>1</th>\n",
              "      <td>53cdb2fc8bc7dce0b6741e2150273451</td>\n",
              "      <td>b0830fb4747a6c6d20dea0b8c802d7ef</td>\n",
              "      <td>delivered</td>\n",
              "      <td>2018-07-24 20:41:37</td>\n",
              "      <td>2018-07-26 03:24:27</td>\n",
              "      <td>2018-07-26 14:31:00</td>\n",
              "      <td>2018-08-07 15:27:45</td>\n",
              "      <td>2018-08-13 00:00:00</td>\n",
              "    </tr>\n",
              "    <tr>\n",
              "      <th>2</th>\n",
              "      <td>47770eb9100c2d0c44946d9cf07ec65d</td>\n",
              "      <td>41ce2a54c0b03bf3443c3d931a367089</td>\n",
              "      <td>delivered</td>\n",
              "      <td>2018-08-08 08:38:49</td>\n",
              "      <td>2018-08-08 08:55:23</td>\n",
              "      <td>2018-08-08 13:50:00</td>\n",
              "      <td>2018-08-17 18:06:29</td>\n",
              "      <td>2018-09-04 00:00:00</td>\n",
              "    </tr>\n",
              "    <tr>\n",
              "      <th>3</th>\n",
              "      <td>949d5b44dbf5de918fe9c16f97b45f8a</td>\n",
              "      <td>f88197465ea7920adcdbec7375364d82</td>\n",
              "      <td>delivered</td>\n",
              "      <td>2017-11-18 19:28:06</td>\n",
              "      <td>2017-11-18 19:45:59</td>\n",
              "      <td>2017-11-22 13:39:59</td>\n",
              "      <td>2017-12-02 00:28:42</td>\n",
              "      <td>2017-12-15 00:00:00</td>\n",
              "    </tr>\n",
              "    <tr>\n",
              "      <th>4</th>\n",
              "      <td>ad21c59c0840e6cb83a9ceb5573f8159</td>\n",
              "      <td>8ab97904e6daea8866dbdbc4fb7aad2c</td>\n",
              "      <td>delivered</td>\n",
              "      <td>2018-02-13 21:18:39</td>\n",
              "      <td>2018-02-13 22:20:29</td>\n",
              "      <td>2018-02-14 19:46:34</td>\n",
              "      <td>2018-02-16 18:17:02</td>\n",
              "      <td>2018-02-26 00:00:00</td>\n",
              "    </tr>\n",
              "  </tbody>\n",
              "</table>\n",
              "</div>"
            ],
            "text/plain": [
              "                           order_id  ... order_estimated_delivery_date\n",
              "0  e481f51cbdc54678b7cc49136f2d6af7  ...           2017-10-18 00:00:00\n",
              "1  53cdb2fc8bc7dce0b6741e2150273451  ...           2018-08-13 00:00:00\n",
              "2  47770eb9100c2d0c44946d9cf07ec65d  ...           2018-09-04 00:00:00\n",
              "3  949d5b44dbf5de918fe9c16f97b45f8a  ...           2017-12-15 00:00:00\n",
              "4  ad21c59c0840e6cb83a9ceb5573f8159  ...           2018-02-26 00:00:00\n",
              "\n",
              "[5 rows x 8 columns]"
            ]
          },
          "metadata": {
            "tags": []
          },
          "execution_count": 10
        }
      ]
    },
    {
      "cell_type": "code",
      "metadata": {
        "id": "ivsZ9t3as6bD",
        "colab_type": "code",
        "colab": {}
      },
      "source": [
        "categorical.append('order_status')"
      ],
      "execution_count": 0,
      "outputs": []
    },
    {
      "cell_type": "code",
      "metadata": {
        "id": "wzFXPZUDQal7",
        "colab_type": "code",
        "colab": {}
      },
      "source": [
        "# Сконвертируем колонки с данными в число секунд от 01.01.1970\t\n",
        "data_columns = ['order_purchase_timestamp', 'order_approved_at', 'order_delivered_carrier_date',\n",
        "                'order_delivered_customer_date', 'order_estimated_delivery_date']"
      ],
      "execution_count": 0,
      "outputs": []
    },
    {
      "cell_type": "code",
      "metadata": {
        "id": "wpWqSOQPQPJU",
        "colab_type": "code",
        "outputId": "63c232ae-357c-4fd5-e08c-468b46a6724e",
        "colab": {
          "base_uri": "https://localhost:8080/",
          "height": 145
        }
      },
      "source": [
        "import datetime as dt\n",
        "from datetime import datetime\n",
        "from datetime import date\n",
        "\n",
        "fmt = \"%Y-%m-%d %H:%M:%S\"\n",
        "date = datetime.strptime(olist_orders.iloc[0, 3], fmt)\n",
        "print(date.day)\n",
        "print(date.month)\n",
        "print(date.year)\n",
        "print(\"~~~~~~~~\")\n",
        "print(date.hour)\n",
        "print(date.minute)\n",
        "print(date.second)"
      ],
      "execution_count": 13,
      "outputs": [
        {
          "output_type": "stream",
          "text": [
            "2\n",
            "10\n",
            "2017\n",
            "~~~~~~~~\n",
            "10\n",
            "56\n",
            "33\n"
          ],
          "name": "stdout"
        }
      ]
    },
    {
      "cell_type": "code",
      "metadata": {
        "id": "X0W9L_fLR1qz",
        "colab_type": "code",
        "colab": {}
      },
      "source": [
        "start_date = dt.datetime(1970, 1, 1)\n",
        "\n",
        "def convert_to_seconds(str_date):\n",
        "    if str_date is None or type(str_date) != str:\n",
        "        return 0\n",
        "    global start_date, fmt\n",
        "    date = datetime.strptime(str_date, fmt)\n",
        "    return (date - start_date).total_seconds()"
      ],
      "execution_count": 0,
      "outputs": []
    },
    {
      "cell_type": "code",
      "metadata": {
        "id": "SC-NdjCbTiA9",
        "colab_type": "code",
        "outputId": "371677d9-acdf-4c17-8b39-b98c2cef4d0f",
        "colab": {
          "base_uri": "https://localhost:8080/",
          "height": 54
        }
      },
      "source": [
        "print(olist_orders.shape)\n",
        "for data_column in data_columns:\n",
        "    olist_orders[data_column + '_seconds'] = olist_orders[data_column].apply(convert_to_seconds)\n",
        "print(olist_orders.shape)"
      ],
      "execution_count": 15,
      "outputs": [
        {
          "output_type": "stream",
          "text": [
            "(99441, 8)\n",
            "(99441, 13)\n"
          ],
          "name": "stdout"
        }
      ]
    },
    {
      "cell_type": "code",
      "metadata": {
        "id": "KU2nKaZyoko1",
        "colab_type": "code",
        "colab": {}
      },
      "source": [
        "olist_orders.drop(data_columns, axis=1, inplace=True)"
      ],
      "execution_count": 0,
      "outputs": []
    },
    {
      "cell_type": "code",
      "metadata": {
        "id": "AEMJPIXSo0Gn",
        "colab_type": "code",
        "outputId": "e35d4aa1-ad8e-47c5-c0e4-e81b9c9722f2",
        "colab": {
          "base_uri": "https://localhost:8080/",
          "height": 218
        }
      },
      "source": [
        "from sklearn.preprocessing import StandardScaler\n",
        "\n",
        "# Отнормируем их\n",
        "for data_column in data_columns:\n",
        "    olist_orders[data_column + '_seconds'] = StandardScaler().fit_transform(olist_orders[data_column + '_seconds'].values.reshape((-1, 1)))\n",
        "\n",
        "olist_orders.head()"
      ],
      "execution_count": 17,
      "outputs": [
        {
          "output_type": "execute_result",
          "data": {
            "text/html": [
              "<div>\n",
              "<style scoped>\n",
              "    .dataframe tbody tr th:only-of-type {\n",
              "        vertical-align: middle;\n",
              "    }\n",
              "\n",
              "    .dataframe tbody tr th {\n",
              "        vertical-align: top;\n",
              "    }\n",
              "\n",
              "    .dataframe thead th {\n",
              "        text-align: right;\n",
              "    }\n",
              "</style>\n",
              "<table border=\"1\" class=\"dataframe\">\n",
              "  <thead>\n",
              "    <tr style=\"text-align: right;\">\n",
              "      <th></th>\n",
              "      <th>order_id</th>\n",
              "      <th>customer_id</th>\n",
              "      <th>order_status</th>\n",
              "      <th>order_purchase_timestamp_seconds</th>\n",
              "      <th>order_approved_at_seconds</th>\n",
              "      <th>order_delivered_carrier_date_seconds</th>\n",
              "      <th>order_delivered_customer_date_seconds</th>\n",
              "      <th>order_estimated_delivery_date_seconds</th>\n",
              "    </tr>\n",
              "  </thead>\n",
              "  <tbody>\n",
              "    <tr>\n",
              "      <th>0</th>\n",
              "      <td>e481f51cbdc54678b7cc49136f2d6af7</td>\n",
              "      <td>9ef432eb6251297304e76186b10a928d</td>\n",
              "      <td>delivered</td>\n",
              "      <td>-0.585074</td>\n",
              "      <td>-0.086347</td>\n",
              "      <td>0.095349</td>\n",
              "      <td>0.143087</td>\n",
              "      <td>-0.646198</td>\n",
              "    </tr>\n",
              "    <tr>\n",
              "      <th>1</th>\n",
              "      <td>53cdb2fc8bc7dce0b6741e2150273451</td>\n",
              "      <td>b0830fb4747a6c6d20dea0b8c802d7ef</td>\n",
              "      <td>delivered</td>\n",
              "      <td>1.337288</td>\n",
              "      <td>0.326153</td>\n",
              "      <td>0.221759</td>\n",
              "      <td>0.243743</td>\n",
              "      <td>1.322733</td>\n",
              "    </tr>\n",
              "    <tr>\n",
              "      <th>2</th>\n",
              "      <td>47770eb9100c2d0c44946d9cf07ec65d</td>\n",
              "      <td>41ce2a54c0b03bf3443c3d931a367089</td>\n",
              "      <td>delivered</td>\n",
              "      <td>1.431634</td>\n",
              "      <td>0.344548</td>\n",
              "      <td>0.227322</td>\n",
              "      <td>0.247127</td>\n",
              "      <td>1.467604</td>\n",
              "    </tr>\n",
              "    <tr>\n",
              "      <th>3</th>\n",
              "      <td>949d5b44dbf5de918fe9c16f97b45f8a</td>\n",
              "      <td>f88197465ea7920adcdbec7375364d82</td>\n",
              "      <td>delivered</td>\n",
              "      <td>-0.276909</td>\n",
              "      <td>-0.020498</td>\n",
              "      <td>0.116250</td>\n",
              "      <td>0.160533</td>\n",
              "      <td>-0.264265</td>\n",
              "    </tr>\n",
              "    <tr>\n",
              "      <th>4</th>\n",
              "      <td>ad21c59c0840e6cb83a9ceb5573f8159</td>\n",
              "      <td>8ab97904e6daea8866dbdbc4fb7aad2c</td>\n",
              "      <td>delivered</td>\n",
              "      <td>0.289745</td>\n",
              "      <td>0.100616</td>\n",
              "      <td>0.152382</td>\n",
              "      <td>0.186217</td>\n",
              "      <td>0.216444</td>\n",
              "    </tr>\n",
              "  </tbody>\n",
              "</table>\n",
              "</div>"
            ],
            "text/plain": [
              "                           order_id  ... order_estimated_delivery_date_seconds\n",
              "0  e481f51cbdc54678b7cc49136f2d6af7  ...                             -0.646198\n",
              "1  53cdb2fc8bc7dce0b6741e2150273451  ...                              1.322733\n",
              "2  47770eb9100c2d0c44946d9cf07ec65d  ...                              1.467604\n",
              "3  949d5b44dbf5de918fe9c16f97b45f8a  ...                             -0.264265\n",
              "4  ad21c59c0840e6cb83a9ceb5573f8159  ...                              0.216444\n",
              "\n",
              "[5 rows x 8 columns]"
            ]
          },
          "metadata": {
            "tags": []
          },
          "execution_count": 17
        }
      ]
    },
    {
      "cell_type": "code",
      "metadata": {
        "id": "9WNWxiI5Oa6B",
        "colab_type": "code",
        "outputId": "c9c54772-f117-4a71-af09-9367a9bc1edf",
        "colab": {
          "base_uri": "https://localhost:8080/",
          "height": 300
        }
      },
      "source": [
        "ax = sns.distplot(olist_orders['order_estimated_delivery_date_seconds'])"
      ],
      "execution_count": 18,
      "outputs": [
        {
          "output_type": "display_data",
          "data": {
            "image/png": "[encoded data removed]",
            "text/plain": [
              "<Figure size 432x288 with 1 Axes>"
            ]
          },
          "metadata": {
            "tags": [],
            "needs_background": "light"
          }
        }
      ]
    },
    {
      "cell_type": "markdown",
      "metadata": {
        "id": "QdiwqiM0Nnsx",
        "colab_type": "text"
      },
      "source": [
        "Хранит временные точки совершения заказов и текущее состояние."
      ]
    },
    {
      "cell_type": "markdown",
      "metadata": {
        "id": "JxxCJiFJNNcT",
        "colab_type": "text"
      },
      "source": [
        "### olist-order-reviews-dataset"
      ]
    },
    {
      "cell_type": "code",
      "metadata": {
        "id": "M39Ml6AcJVAz",
        "colab_type": "code",
        "outputId": "e61a8994-4c70-4224-a3a6-77c2fcba482c",
        "colab": {
          "base_uri": "https://localhost:8080/",
          "height": 253
        }
      },
      "source": [
        "olist_order_reviews = pd.read_csv(prefix + 'olist_order_reviews_dataset.csv')\n",
        "olist_order_reviews.head()"
      ],
      "execution_count": 19,
      "outputs": [
        {
          "output_type": "execute_result",
          "data": {
            "text/html": [
              "<div>\n",
              "<style scoped>\n",
              "    .dataframe tbody tr th:only-of-type {\n",
              "        vertical-align: middle;\n",
              "    }\n",
              "\n",
              "    .dataframe tbody tr th {\n",
              "        vertical-align: top;\n",
              "    }\n",
              "\n",
              "    .dataframe thead th {\n",
              "        text-align: right;\n",
              "    }\n",
              "</style>\n",
              "<table border=\"1\" class=\"dataframe\">\n",
              "  <thead>\n",
              "    <tr style=\"text-align: right;\">\n",
              "      <th></th>\n",
              "      <th>review_id</th>\n",
              "      <th>order_id</th>\n",
              "      <th>review_score</th>\n",
              "      <th>review_comment_title</th>\n",
              "      <th>review_comment_message</th>\n",
              "      <th>review_creation_date</th>\n",
              "      <th>review_answer_timestamp</th>\n",
              "    </tr>\n",
              "  </thead>\n",
              "  <tbody>\n",
              "    <tr>\n",
              "      <th>0</th>\n",
              "      <td>7bc2406110b926393aa56f80a40eba40</td>\n",
              "      <td>73fc7af87114b39712e6da79b0a377eb</td>\n",
              "      <td>4</td>\n",
              "      <td>NaN</td>\n",
              "      <td>NaN</td>\n",
              "      <td>2018-01-18 00:00:00</td>\n",
              "      <td>2018-01-18 21:46:59</td>\n",
              "    </tr>\n",
              "    <tr>\n",
              "      <th>1</th>\n",
              "      <td>80e641a11e56f04c1ad469d5645fdfde</td>\n",
              "      <td>a548910a1c6147796b98fdf73dbeba33</td>\n",
              "      <td>5</td>\n",
              "      <td>NaN</td>\n",
              "      <td>NaN</td>\n",
              "      <td>2018-03-10 00:00:00</td>\n",
              "      <td>2018-03-11 03:05:13</td>\n",
              "    </tr>\n",
              "    <tr>\n",
              "      <th>2</th>\n",
              "      <td>228ce5500dc1d8e020d8d1322874b6f0</td>\n",
              "      <td>f9e4b658b201a9f2ecdecbb34bed034b</td>\n",
              "      <td>5</td>\n",
              "      <td>NaN</td>\n",
              "      <td>NaN</td>\n",
              "      <td>2018-02-17 00:00:00</td>\n",
              "      <td>2018-02-18 14:36:24</td>\n",
              "    </tr>\n",
              "    <tr>\n",
              "      <th>3</th>\n",
              "      <td>e64fb393e7b32834bb789ff8bb30750e</td>\n",
              "      <td>658677c97b385a9be170737859d3511b</td>\n",
              "      <td>5</td>\n",
              "      <td>NaN</td>\n",
              "      <td>Recebi bem antes do prazo estipulado.</td>\n",
              "      <td>2017-04-21 00:00:00</td>\n",
              "      <td>2017-04-21 22:02:06</td>\n",
              "    </tr>\n",
              "    <tr>\n",
              "      <th>4</th>\n",
              "      <td>f7c4243c7fe1938f181bec41a392bdeb</td>\n",
              "      <td>8e6bfb81e283fa7e4f11123a3fb894f1</td>\n",
              "      <td>5</td>\n",
              "      <td>NaN</td>\n",
              "      <td>Parabéns lojas lannister adorei comprar pela I...</td>\n",
              "      <td>2018-03-01 00:00:00</td>\n",
              "      <td>2018-03-02 10:26:53</td>\n",
              "    </tr>\n",
              "  </tbody>\n",
              "</table>\n",
              "</div>"
            ],
            "text/plain": [
              "                          review_id  ... review_answer_timestamp\n",
              "0  7bc2406110b926393aa56f80a40eba40  ...     2018-01-18 21:46:59\n",
              "1  80e641a11e56f04c1ad469d5645fdfde  ...     2018-03-11 03:05:13\n",
              "2  228ce5500dc1d8e020d8d1322874b6f0  ...     2018-02-18 14:36:24\n",
              "3  e64fb393e7b32834bb789ff8bb30750e  ...     2017-04-21 22:02:06\n",
              "4  f7c4243c7fe1938f181bec41a392bdeb  ...     2018-03-02 10:26:53\n",
              "\n",
              "[5 rows x 7 columns]"
            ]
          },
          "metadata": {
            "tags": []
          },
          "execution_count": 19
        }
      ]
    },
    {
      "cell_type": "code",
      "metadata": {
        "id": "bC-8Ky2Vhbe2",
        "colab_type": "code",
        "outputId": "007725ec-bc0e-4015-97ac-3d72aae703f4",
        "colab": {
          "base_uri": "https://localhost:8080/",
          "height": 72
        }
      },
      "source": [
        "nan_num = olist_order_reviews['review_comment_title'].isna().sum()\n",
        "rate = 100 * (olist_order_reviews.shape[0] - nan_num) / olist_order_reviews.shape[0]\n",
        "print(\"Доля ненулевых заголовков комментариев:\", rate, \"%\")\n",
        "print(\"Число заголовков комментариев:\", olist_order_reviews.shape[0])\n",
        "print(\"Число ненулевых заголовков комментариев:\", olist_order_reviews.shape[0] - nan_num)"
      ],
      "execution_count": 20,
      "outputs": [
        {
          "output_type": "stream",
          "text": [
            "Доля ненулевых заголовков комментариев: 11.715 %\n",
            "Число заголовков комментариев: 100000\n",
            "Число ненулевых заголовков комментариев: 11715\n"
          ],
          "name": "stdout"
        }
      ]
    },
    {
      "cell_type": "code",
      "metadata": {
        "id": "7STBMvvWgUcD",
        "colab_type": "code",
        "outputId": "681e67c6-5ac5-4673-b162-32a9bc90e853",
        "colab": {
          "base_uri": "https://localhost:8080/",
          "height": 72
        }
      },
      "source": [
        "nan_num = olist_order_reviews['review_comment_message'].isna().sum()\n",
        "rate = 100 * (olist_order_reviews.shape[0] - nan_num) / olist_order_reviews.shape[0]\n",
        "print(\"Доля ненулевых комментариев:\", rate, \"%\")\n",
        "print(\"Число комментариев:\", olist_order_reviews.shape[0])\n",
        "print(\"Число ненулевых комментариев:\", olist_order_reviews.shape[0] - nan_num)"
      ],
      "execution_count": 21,
      "outputs": [
        {
          "output_type": "stream",
          "text": [
            "Доля ненулевых комментариев: 41.753 %\n",
            "Число комментариев: 100000\n",
            "Число ненулевых комментариев: 41753\n"
          ],
          "name": "stdout"
        }
      ]
    },
    {
      "cell_type": "code",
      "metadata": {
        "id": "Cf_w4cBmhkjh",
        "colab_type": "code",
        "outputId": "2934f306-8174-42b4-ad78-7a117f0a6bfd",
        "colab": {
          "base_uri": "https://localhost:8080/",
          "height": 72
        }
      },
      "source": [
        "# Найдем процент ненулевых заголовков и описаний вместе\n",
        "nan_num = (olist_order_reviews['review_comment_message'].isna() | olist_order_reviews['review_comment_title'].isna()).sum()\n",
        "rate = 100 * (olist_order_reviews.shape[0] - nan_num) / olist_order_reviews.shape[0]\n",
        "print(\"Доля полноценных комментариев:\", rate, \"%\")\n",
        "print(\"Число комментариев:\", olist_order_reviews.shape[0])\n",
        "print(\"Число полноценных комментариев:\", olist_order_reviews.shape[0] - nan_num)"
      ],
      "execution_count": 22,
      "outputs": [
        {
          "output_type": "stream",
          "text": [
            "Доля полноценных комментариев: 9.986 %\n",
            "Число комментариев: 100000\n",
            "Число полноценных комментариев: 9986\n"
          ],
          "name": "stdout"
        }
      ]
    },
    {
      "cell_type": "code",
      "metadata": {
        "id": "UtfrRJhYiPT1",
        "colab_type": "code",
        "outputId": "17210d04-65fb-4d1d-883f-2d1ffd2bb15c",
        "colab": {
          "base_uri": "https://localhost:8080/",
          "height": 35
        }
      },
      "source": [
        "# Вывод: избавимся от заголовков, будем использовать только описания. Сократим выборку до 41.732%\n",
        "new_olist_order_reviews = olist_order_reviews.loc[~(olist_order_reviews['review_comment_message'].isna()), :]\n",
        "print(\"Размер подвыборки:\", new_olist_order_reviews.shape)"
      ],
      "execution_count": 23,
      "outputs": [
        {
          "output_type": "stream",
          "text": [
            "Размер подвыборки: (41753, 7)\n"
          ],
          "name": "stdout"
        }
      ]
    },
    {
      "cell_type": "code",
      "metadata": {
        "id": "bo6tTyZqtBMc",
        "colab_type": "code",
        "colab": {}
      },
      "source": [
        "# Дропнем почти нулевой столбец заголовков\n",
        "olist_order_reviews.drop(['review_comment_title'], axis=1, inplace=True)"
      ],
      "execution_count": 0,
      "outputs": []
    },
    {
      "cell_type": "code",
      "metadata": {
        "id": "iheNgG9rNfFm",
        "colab_type": "code",
        "outputId": "4d4d0533-b9be-4c1b-ff88-5c16ba8db322",
        "colab": {
          "base_uri": "https://localhost:8080/",
          "height": 299
        }
      },
      "source": [
        "# Посмотрим на распределение поставленных пользователями оценок\n",
        "\n",
        "ax = sns.countplot(y='review_score', data=olist_order_reviews, palette=\"Greens_d\")"
      ],
      "execution_count": 25,
      "outputs": [
        {
          "output_type": "display_data",
          "data": {
            "image/png": "[encoded data removed]",
            "text/plain": [
              "<Figure size 432x288 with 1 Axes>"
            ]
          },
          "metadata": {
            "tags": [],
            "needs_background": "light"
          }
        }
      ]
    },
    {
      "cell_type": "markdown",
      "metadata": {
        "id": "N6e5uOU0WPmp",
        "colab_type": "text"
      },
      "source": [
        "### olist-order-payments-dataset"
      ]
    },
    {
      "cell_type": "code",
      "metadata": {
        "id": "eRD_ThdbOM13",
        "colab_type": "code",
        "outputId": "4803ad5d-60f1-448b-848d-217d11b8894c",
        "colab": {
          "base_uri": "https://localhost:8080/",
          "height": 198
        }
      },
      "source": [
        "olist_order_payments = pd.read_csv(prefix + 'olist_order_payments_dataset.csv')\n",
        "olist_order_payments.head()"
      ],
      "execution_count": 26,
      "outputs": [
        {
          "output_type": "execute_result",
          "data": {
            "text/html": [
              "<div>\n",
              "<style scoped>\n",
              "    .dataframe tbody tr th:only-of-type {\n",
              "        vertical-align: middle;\n",
              "    }\n",
              "\n",
              "    .dataframe tbody tr th {\n",
              "        vertical-align: top;\n",
              "    }\n",
              "\n",
              "    .dataframe thead th {\n",
              "        text-align: right;\n",
              "    }\n",
              "</style>\n",
              "<table border=\"1\" class=\"dataframe\">\n",
              "  <thead>\n",
              "    <tr style=\"text-align: right;\">\n",
              "      <th></th>\n",
              "      <th>order_id</th>\n",
              "      <th>payment_sequential</th>\n",
              "      <th>payment_type</th>\n",
              "      <th>payment_installments</th>\n",
              "      <th>payment_value</th>\n",
              "    </tr>\n",
              "  </thead>\n",
              "  <tbody>\n",
              "    <tr>\n",
              "      <th>0</th>\n",
              "      <td>b81ef226f3fe1789b1e8b2acac839d17</td>\n",
              "      <td>1</td>\n",
              "      <td>credit_card</td>\n",
              "      <td>8</td>\n",
              "      <td>99.33</td>\n",
              "    </tr>\n",
              "    <tr>\n",
              "      <th>1</th>\n",
              "      <td>a9810da82917af2d9aefd1278f1dcfa0</td>\n",
              "      <td>1</td>\n",
              "      <td>credit_card</td>\n",
              "      <td>1</td>\n",
              "      <td>24.39</td>\n",
              "    </tr>\n",
              "    <tr>\n",
              "      <th>2</th>\n",
              "      <td>25e8ea4e93396b6fa0d3dd708e76c1bd</td>\n",
              "      <td>1</td>\n",
              "      <td>credit_card</td>\n",
              "      <td>1</td>\n",
              "      <td>65.71</td>\n",
              "    </tr>\n",
              "    <tr>\n",
              "      <th>3</th>\n",
              "      <td>ba78997921bbcdc1373bb41e913ab953</td>\n",
              "      <td>1</td>\n",
              "      <td>credit_card</td>\n",
              "      <td>8</td>\n",
              "      <td>107.78</td>\n",
              "    </tr>\n",
              "    <tr>\n",
              "      <th>4</th>\n",
              "      <td>42fdf880ba16b47b59251dd489d4441a</td>\n",
              "      <td>1</td>\n",
              "      <td>credit_card</td>\n",
              "      <td>2</td>\n",
              "      <td>128.45</td>\n",
              "    </tr>\n",
              "  </tbody>\n",
              "</table>\n",
              "</div>"
            ],
            "text/plain": [
              "                           order_id  ...  payment_value\n",
              "0  b81ef226f3fe1789b1e8b2acac839d17  ...          99.33\n",
              "1  a9810da82917af2d9aefd1278f1dcfa0  ...          24.39\n",
              "2  25e8ea4e93396b6fa0d3dd708e76c1bd  ...          65.71\n",
              "3  ba78997921bbcdc1373bb41e913ab953  ...         107.78\n",
              "4  42fdf880ba16b47b59251dd489d4441a  ...         128.45\n",
              "\n",
              "[5 rows x 5 columns]"
            ]
          },
          "metadata": {
            "tags": []
          },
          "execution_count": 26
        }
      ]
    },
    {
      "cell_type": "code",
      "metadata": {
        "id": "VQvi5KhetZV1",
        "colab_type": "code",
        "colab": {}
      },
      "source": [
        "categorical.append('payment_type')"
      ],
      "execution_count": 0,
      "outputs": []
    },
    {
      "cell_type": "code",
      "metadata": {
        "id": "923A4p7IWnTh",
        "colab_type": "code",
        "outputId": "93a93a0f-fc1e-4daa-f716-d6614f757aa3",
        "colab": {
          "base_uri": "https://localhost:8080/",
          "height": 326
        }
      },
      "source": [
        "ax = sns.distplot(olist_order_payments['payment_value'], hist=False)\n",
        "ax.set_xlim([-100, 1500])\n",
        "ax.set_ylim([0, 0.001])"
      ],
      "execution_count": 28,
      "outputs": [
        {
          "output_type": "execute_result",
          "data": {
            "text/plain": [
              "(0.0, 0.001)"
            ]
          },
          "metadata": {
            "tags": []
          },
          "execution_count": 28
        },
        {
          "output_type": "display_data",
          "data": {
            "image/png": "[encoded data removed]",
            "text/plain": [
              "<Figure size 432x288 with 1 Axes>"
            ]
          },
          "metadata": {
            "tags": [],
            "needs_background": "light"
          }
        }
      ]
    },
    {
      "cell_type": "code",
      "metadata": {
        "id": "ZNx5IeKWXgse",
        "colab_type": "code",
        "outputId": "2b5ca93f-01a6-4072-fdd2-1b479ae08284",
        "colab": {
          "base_uri": "https://localhost:8080/",
          "height": 299
        }
      },
      "source": [
        "ax = sns.countplot(y='payment_type', data=olist_order_payments, palette=\"Greens_d\")"
      ],
      "execution_count": 29,
      "outputs": [
        {
          "output_type": "display_data",
          "data": {
            "image/png": "[encoded data removed]",
            "text/plain": [
              "<Figure size 432x288 with 1 Axes>"
            ]
          },
          "metadata": {
            "tags": [],
            "needs_background": "light"
          }
        }
      ]
    },
    {
      "cell_type": "markdown",
      "metadata": {
        "id": "6FBQ2oVqXz2Y",
        "colab_type": "text"
      },
      "source": [
        "### olist-order-items-dataset"
      ]
    },
    {
      "cell_type": "code",
      "metadata": {
        "id": "aGS8FpUjWg80",
        "colab_type": "code",
        "outputId": "6d5f75b9-73cd-47e6-882c-100218795df9",
        "colab": {
          "base_uri": "https://localhost:8080/",
          "height": 218
        }
      },
      "source": [
        "olist_order_items = pd.read_csv(prefix + 'olist_order_items_dataset.csv')\n",
        "olist_order_items.head()"
      ],
      "execution_count": 30,
      "outputs": [
        {
          "output_type": "execute_result",
          "data": {
            "text/html": [
              "<div>\n",
              "<style scoped>\n",
              "    .dataframe tbody tr th:only-of-type {\n",
              "        vertical-align: middle;\n",
              "    }\n",
              "\n",
              "    .dataframe tbody tr th {\n",
              "        vertical-align: top;\n",
              "    }\n",
              "\n",
              "    .dataframe thead th {\n",
              "        text-align: right;\n",
              "    }\n",
              "</style>\n",
              "<table border=\"1\" class=\"dataframe\">\n",
              "  <thead>\n",
              "    <tr style=\"text-align: right;\">\n",
              "      <th></th>\n",
              "      <th>order_id</th>\n",
              "      <th>order_item_id</th>\n",
              "      <th>product_id</th>\n",
              "      <th>seller_id</th>\n",
              "      <th>shipping_limit_date</th>\n",
              "      <th>price</th>\n",
              "      <th>freight_value</th>\n",
              "    </tr>\n",
              "  </thead>\n",
              "  <tbody>\n",
              "    <tr>\n",
              "      <th>0</th>\n",
              "      <td>00010242fe8c5a6d1ba2dd792cb16214</td>\n",
              "      <td>1</td>\n",
              "      <td>4244733e06e7ecb4970a6e2683c13e61</td>\n",
              "      <td>48436dade18ac8b2bce089ec2a041202</td>\n",
              "      <td>2017-09-19 09:45:35</td>\n",
              "      <td>58.90</td>\n",
              "      <td>13.29</td>\n",
              "    </tr>\n",
              "    <tr>\n",
              "      <th>1</th>\n",
              "      <td>00018f77f2f0320c557190d7a144bdd3</td>\n",
              "      <td>1</td>\n",
              "      <td>e5f2d52b802189ee658865ca93d83a8f</td>\n",
              "      <td>dd7ddc04e1b6c2c614352b383efe2d36</td>\n",
              "      <td>2017-05-03 11:05:13</td>\n",
              "      <td>239.90</td>\n",
              "      <td>19.93</td>\n",
              "    </tr>\n",
              "    <tr>\n",
              "      <th>2</th>\n",
              "      <td>000229ec398224ef6ca0657da4fc703e</td>\n",
              "      <td>1</td>\n",
              "      <td>c777355d18b72b67abbeef9df44fd0fd</td>\n",
              "      <td>5b51032eddd242adc84c38acab88f23d</td>\n",
              "      <td>2018-01-18 14:48:30</td>\n",
              "      <td>199.00</td>\n",
              "      <td>17.87</td>\n",
              "    </tr>\n",
              "    <tr>\n",
              "      <th>3</th>\n",
              "      <td>00024acbcdf0a6daa1e931b038114c75</td>\n",
              "      <td>1</td>\n",
              "      <td>7634da152a4610f1595efa32f14722fc</td>\n",
              "      <td>9d7a1d34a5052409006425275ba1c2b4</td>\n",
              "      <td>2018-08-15 10:10:18</td>\n",
              "      <td>12.99</td>\n",
              "      <td>12.79</td>\n",
              "    </tr>\n",
              "    <tr>\n",
              "      <th>4</th>\n",
              "      <td>00042b26cf59d7ce69dfabb4e55b4fd9</td>\n",
              "      <td>1</td>\n",
              "      <td>ac6c3623068f30de03045865e4e10089</td>\n",
              "      <td>df560393f3a51e74553ab94004ba5c87</td>\n",
              "      <td>2017-02-13 13:57:51</td>\n",
              "      <td>199.90</td>\n",
              "      <td>18.14</td>\n",
              "    </tr>\n",
              "  </tbody>\n",
              "</table>\n",
              "</div>"
            ],
            "text/plain": [
              "                           order_id  order_item_id  ...   price freight_value\n",
              "0  00010242fe8c5a6d1ba2dd792cb16214              1  ...   58.90         13.29\n",
              "1  00018f77f2f0320c557190d7a144bdd3              1  ...  239.90         19.93\n",
              "2  000229ec398224ef6ca0657da4fc703e              1  ...  199.00         17.87\n",
              "3  00024acbcdf0a6daa1e931b038114c75              1  ...   12.99         12.79\n",
              "4  00042b26cf59d7ce69dfabb4e55b4fd9              1  ...  199.90         18.14\n",
              "\n",
              "[5 rows x 7 columns]"
            ]
          },
          "metadata": {
            "tags": []
          },
          "execution_count": 30
        }
      ]
    },
    {
      "cell_type": "code",
      "metadata": {
        "id": "aTt-s3HitiTW",
        "colab_type": "code",
        "colab": {}
      },
      "source": [
        "olist_order_items['shipping_limit_date_seconds'] = olist_order_items['shipping_limit_date'].apply(convert_to_seconds)\n",
        "olist_order_items.drop(['shipping_limit_date'], axis=1, inplace=True)"
      ],
      "execution_count": 0,
      "outputs": []
    },
    {
      "cell_type": "code",
      "metadata": {
        "id": "ERy57x89YP81",
        "colab_type": "code",
        "outputId": "f068fa0d-5d0f-45e4-c8b7-eee5bc091d11",
        "colab": {
          "base_uri": "https://localhost:8080/",
          "height": 325
        }
      },
      "source": [
        "ax = sns.distplot(olist_order_items['price'], hist=False)\n",
        "ax.set_xlim([-100, 1000])\n",
        "ax.set_ylim([0, 0.004])"
      ],
      "execution_count": 32,
      "outputs": [
        {
          "output_type": "execute_result",
          "data": {
            "text/plain": [
              "(0.0, 0.004)"
            ]
          },
          "metadata": {
            "tags": []
          },
          "execution_count": 32
        },
        {
          "output_type": "display_data",
          "data": {
            "image/png": "[encoded data removed]",
            "text/plain": [
              "<Figure size 432x288 with 1 Axes>"
            ]
          },
          "metadata": {
            "tags": [],
            "needs_background": "light"
          }
        }
      ]
    },
    {
      "cell_type": "markdown",
      "metadata": {
        "id": "xOLiSOPoY2xG",
        "colab_type": "text"
      },
      "source": [
        "### olist-geolocation-dataset"
      ]
    },
    {
      "cell_type": "code",
      "metadata": {
        "id": "4aWgVDD0YZ4p",
        "colab_type": "code",
        "outputId": "08d8174c-e1cc-4f7f-ecaf-2d1fb795854d",
        "colab": {
          "base_uri": "https://localhost:8080/",
          "height": 198
        }
      },
      "source": [
        "olist_geolocation = pd.read_csv(prefix + 'olist_geolocation_dataset.csv')\n",
        "olist_geolocation.head()"
      ],
      "execution_count": 33,
      "outputs": [
        {
          "output_type": "execute_result",
          "data": {
            "text/html": [
              "<div>\n",
              "<style scoped>\n",
              "    .dataframe tbody tr th:only-of-type {\n",
              "        vertical-align: middle;\n",
              "    }\n",
              "\n",
              "    .dataframe tbody tr th {\n",
              "        vertical-align: top;\n",
              "    }\n",
              "\n",
              "    .dataframe thead th {\n",
              "        text-align: right;\n",
              "    }\n",
              "</style>\n",
              "<table border=\"1\" class=\"dataframe\">\n",
              "  <thead>\n",
              "    <tr style=\"text-align: right;\">\n",
              "      <th></th>\n",
              "      <th>geolocation_zip_code_prefix</th>\n",
              "      <th>geolocation_lat</th>\n",
              "      <th>geolocation_lng</th>\n",
              "      <th>geolocation_city</th>\n",
              "      <th>geolocation_state</th>\n",
              "    </tr>\n",
              "  </thead>\n",
              "  <tbody>\n",
              "    <tr>\n",
              "      <th>0</th>\n",
              "      <td>1037</td>\n",
              "      <td>-23.545621</td>\n",
              "      <td>-46.639292</td>\n",
              "      <td>sao paulo</td>\n",
              "      <td>SP</td>\n",
              "    </tr>\n",
              "    <tr>\n",
              "      <th>1</th>\n",
              "      <td>1046</td>\n",
              "      <td>-23.546081</td>\n",
              "      <td>-46.644820</td>\n",
              "      <td>sao paulo</td>\n",
              "      <td>SP</td>\n",
              "    </tr>\n",
              "    <tr>\n",
              "      <th>2</th>\n",
              "      <td>1046</td>\n",
              "      <td>-23.546129</td>\n",
              "      <td>-46.642951</td>\n",
              "      <td>sao paulo</td>\n",
              "      <td>SP</td>\n",
              "    </tr>\n",
              "    <tr>\n",
              "      <th>3</th>\n",
              "      <td>1041</td>\n",
              "      <td>-23.544392</td>\n",
              "      <td>-46.639499</td>\n",
              "      <td>sao paulo</td>\n",
              "      <td>SP</td>\n",
              "    </tr>\n",
              "    <tr>\n",
              "      <th>4</th>\n",
              "      <td>1035</td>\n",
              "      <td>-23.541578</td>\n",
              "      <td>-46.641607</td>\n",
              "      <td>sao paulo</td>\n",
              "      <td>SP</td>\n",
              "    </tr>\n",
              "  </tbody>\n",
              "</table>\n",
              "</div>"
            ],
            "text/plain": [
              "   geolocation_zip_code_prefix  ...  geolocation_state\n",
              "0                         1037  ...                 SP\n",
              "1                         1046  ...                 SP\n",
              "2                         1046  ...                 SP\n",
              "3                         1041  ...                 SP\n",
              "4                         1035  ...                 SP\n",
              "\n",
              "[5 rows x 5 columns]"
            ]
          },
          "metadata": {
            "tags": []
          },
          "execution_count": 33
        }
      ]
    },
    {
      "cell_type": "code",
      "metadata": {
        "id": "jX1xnxk3uRTk",
        "colab_type": "code",
        "colab": {}
      },
      "source": [
        "# TEMP: пока геолокация не учитывается \n",
        "# categorical.extend(['geolocation_city', 'geolocation_state'])"
      ],
      "execution_count": 0,
      "outputs": []
    },
    {
      "cell_type": "code",
      "metadata": {
        "id": "HZvYecXBZCTR",
        "colab_type": "code",
        "outputId": "6876c2f9-a3ed-472c-f8ea-e6028bcb7a30",
        "colab": {
          "base_uri": "https://localhost:8080/",
          "height": 299
        }
      },
      "source": [
        "# Посмотрим на распределение товаров по городам\n",
        "\n",
        "ax = sns.countplot(y='geolocation_city', data=olist_geolocation, palette=\"Greens_d\",\n",
        "              order=olist_geolocation['geolocation_city'].value_counts().iloc[:TOP].index, orient='h')"
      ],
      "execution_count": 35,
      "outputs": [
        {
          "output_type": "display_data",
          "data": {
            "image/png": "[encoded data removed]",
            "text/plain": [
              "<Figure size 432x288 with 1 Axes>"
            ]
          },
          "metadata": {
            "tags": [],
            "needs_background": "light"
          }
        }
      ]
    },
    {
      "cell_type": "markdown",
      "metadata": {
        "id": "xoYOj9_nZZfA",
        "colab_type": "text"
      },
      "source": [
        "### olist-customers-dataset"
      ]
    },
    {
      "cell_type": "code",
      "metadata": {
        "id": "ORuwweQ7ZMpz",
        "colab_type": "code",
        "outputId": "1337958a-16c5-4ec3-bc69-6197287e1b54",
        "colab": {
          "base_uri": "https://localhost:8080/",
          "height": 198
        }
      },
      "source": [
        "olist_customers = pd.read_csv(prefix + 'olist_customers_dataset.csv')\n",
        "olist_customers.head()"
      ],
      "execution_count": 36,
      "outputs": [
        {
          "output_type": "execute_result",
          "data": {
            "text/html": [
              "<div>\n",
              "<style scoped>\n",
              "    .dataframe tbody tr th:only-of-type {\n",
              "        vertical-align: middle;\n",
              "    }\n",
              "\n",
              "    .dataframe tbody tr th {\n",
              "        vertical-align: top;\n",
              "    }\n",
              "\n",
              "    .dataframe thead th {\n",
              "        text-align: right;\n",
              "    }\n",
              "</style>\n",
              "<table border=\"1\" class=\"dataframe\">\n",
              "  <thead>\n",
              "    <tr style=\"text-align: right;\">\n",
              "      <th></th>\n",
              "      <th>customer_id</th>\n",
              "      <th>customer_unique_id</th>\n",
              "      <th>customer_zip_code_prefix</th>\n",
              "      <th>customer_city</th>\n",
              "      <th>customer_state</th>\n",
              "    </tr>\n",
              "  </thead>\n",
              "  <tbody>\n",
              "    <tr>\n",
              "      <th>0</th>\n",
              "      <td>06b8999e2fba1a1fbc88172c00ba8bc7</td>\n",
              "      <td>861eff4711a542e4b93843c6dd7febb0</td>\n",
              "      <td>14409</td>\n",
              "      <td>franca</td>\n",
              "      <td>SP</td>\n",
              "    </tr>\n",
              "    <tr>\n",
              "      <th>1</th>\n",
              "      <td>18955e83d337fd6b2def6b18a428ac77</td>\n",
              "      <td>290c77bc529b7ac935b93aa66c333dc3</td>\n",
              "      <td>9790</td>\n",
              "      <td>sao bernardo do campo</td>\n",
              "      <td>SP</td>\n",
              "    </tr>\n",
              "    <tr>\n",
              "      <th>2</th>\n",
              "      <td>4e7b3e00288586ebd08712fdd0374a03</td>\n",
              "      <td>060e732b5b29e8181a18229c7b0b2b5e</td>\n",
              "      <td>1151</td>\n",
              "      <td>sao paulo</td>\n",
              "      <td>SP</td>\n",
              "    </tr>\n",
              "    <tr>\n",
              "      <th>3</th>\n",
              "      <td>b2b6027bc5c5109e529d4dc6358b12c3</td>\n",
              "      <td>259dac757896d24d7702b9acbbff3f3c</td>\n",
              "      <td>8775</td>\n",
              "      <td>mogi das cruzes</td>\n",
              "      <td>SP</td>\n",
              "    </tr>\n",
              "    <tr>\n",
              "      <th>4</th>\n",
              "      <td>4f2d8ab171c80ec8364f7c12e35b23ad</td>\n",
              "      <td>345ecd01c38d18a9036ed96c73b8d066</td>\n",
              "      <td>13056</td>\n",
              "      <td>campinas</td>\n",
              "      <td>SP</td>\n",
              "    </tr>\n",
              "  </tbody>\n",
              "</table>\n",
              "</div>"
            ],
            "text/plain": [
              "                        customer_id  ... customer_state\n",
              "0  06b8999e2fba1a1fbc88172c00ba8bc7  ...             SP\n",
              "1  18955e83d337fd6b2def6b18a428ac77  ...             SP\n",
              "2  4e7b3e00288586ebd08712fdd0374a03  ...             SP\n",
              "3  b2b6027bc5c5109e529d4dc6358b12c3  ...             SP\n",
              "4  4f2d8ab171c80ec8364f7c12e35b23ad  ...             SP\n",
              "\n",
              "[5 rows x 5 columns]"
            ]
          },
          "metadata": {
            "tags": []
          },
          "execution_count": 36
        }
      ]
    },
    {
      "cell_type": "code",
      "metadata": {
        "id": "MvWrcb0FuYHi",
        "colab_type": "code",
        "colab": {}
      },
      "source": [
        "categorical.extend(['customer_city', 'customer_state'])"
      ],
      "execution_count": 0,
      "outputs": []
    },
    {
      "cell_type": "code",
      "metadata": {
        "id": "HfCrt7FMu7nH",
        "colab_type": "code",
        "colab": {}
      },
      "source": [
        "# TEMP: drop zip code\n",
        "olist_customers.drop(['customer_zip_code_prefix'], axis=1, inplace=True)"
      ],
      "execution_count": 0,
      "outputs": []
    },
    {
      "cell_type": "code",
      "metadata": {
        "id": "pS1L4St4Zjnf",
        "colab_type": "code",
        "outputId": "377dff83-752d-4c36-ba6c-ff097fb475af",
        "colab": {
          "base_uri": "https://localhost:8080/",
          "height": 299
        }
      },
      "source": [
        "# Посмотрим на распределение городов покупателей\n",
        "\n",
        "ax = sns.countplot(y='customer_city', data=olist_customers, palette=\"Greens_d\",\n",
        "              order=olist_customers['customer_city'].value_counts().iloc[:TOP].index, orient='h')"
      ],
      "execution_count": 39,
      "outputs": [
        {
          "output_type": "display_data",
          "data": {
            "image/png": "[encoded data removed]",
            "text/plain": [
              "<Figure size 432x288 with 1 Axes>"
            ]
          },
          "metadata": {
            "tags": [],
            "needs_background": "light"
          }
        }
      ]
    },
    {
      "cell_type": "markdown",
      "metadata": {
        "id": "DYWD5LdEZlMO",
        "colab_type": "text"
      },
      "source": [
        "# **Объединим предобработанные сущности:**"
      ]
    },
    {
      "cell_type": "code",
      "metadata": {
        "id": "nUzXDIXcvKG7",
        "colab_type": "code",
        "outputId": "389c3139-fd50-4927-a7c6-40837ee268fa",
        "colab": {
          "base_uri": "https://localhost:8080/",
          "height": 35
        }
      },
      "source": [
        "train = olist_orders.merge(olist_order_items, on='order_id', how='left')\n",
        "train = train.merge(olist_order_payments, on='order_id', how='left', validate='m:m')\n",
        "train = train.merge(new_olist_order_reviews, on='order_id', how='inner')\n",
        "train = train.merge(olist_products, on='product_id', how='left')\n",
        "train = train.merge(olist_customers, on='customer_id', how='left')\n",
        "train = train.merge(olist_sellers, on='seller_id', how='left')\n",
        "\n",
        "\n",
        "print(\"Размер выборки до OHE:\", train.shape)"
      ],
      "execution_count": 40,
      "outputs": [
        {
          "output_type": "stream",
          "text": [
            "Размер выборки до OHE: (51250, 38)\n"
          ],
          "name": "stdout"
        }
      ]
    },
    {
      "cell_type": "code",
      "metadata": {
        "id": "V3di2s7szsp-",
        "colab_type": "code",
        "colab": {}
      },
      "source": [
        "# Не забудем удалить заголовки\n",
        "train.drop(['review_comment_title'], axis=1, inplace=True)"
      ],
      "execution_count": 0,
      "outputs": []
    },
    {
      "cell_type": "code",
      "metadata": {
        "id": "Bh-8DNRaxGj8",
        "colab_type": "code",
        "outputId": "e86e6127-3692-4df1-c115-77ca27114644",
        "colab": {
          "base_uri": "https://localhost:8080/",
          "height": 708
        }
      },
      "source": [
        "sm = 0\n",
        "for col in train.columns:\n",
        "    sm += train[col].isna().sum()\n",
        "    print(col, \":\", train[col].isna().sum())\n",
        "print(sm)"
      ],
      "execution_count": 42,
      "outputs": [
        {
          "output_type": "stream",
          "text": [
            "order_id : 0\n",
            "customer_id : 0\n",
            "order_status : 0\n",
            "order_purchase_timestamp_seconds : 0\n",
            "order_approved_at_seconds : 0\n",
            "order_delivered_carrier_date_seconds : 0\n",
            "order_delivered_customer_date_seconds : 0\n",
            "order_estimated_delivery_date_seconds : 0\n",
            "order_item_id : 582\n",
            "product_id : 582\n",
            "seller_id : 582\n",
            "price : 582\n",
            "freight_value : 582\n",
            "shipping_limit_date_seconds : 582\n",
            "payment_sequential : 3\n",
            "payment_type : 3\n",
            "payment_installments : 3\n",
            "payment_value : 3\n",
            "review_id : 0\n",
            "review_score : 0\n",
            "review_comment_message : 0\n",
            "review_creation_date : 0\n",
            "review_answer_timestamp : 0\n",
            "product_category_name : 1357\n",
            "product_name_lenght : 1357\n",
            "product_description_lenght : 1357\n",
            "product_photos_qty : 1357\n",
            "product_weight_g : 596\n",
            "product_length_cm : 596\n",
            "product_height_cm : 596\n",
            "product_width_cm : 596\n",
            "customer_unique_id : 0\n",
            "customer_city : 0\n",
            "customer_state : 0\n",
            "seller_zip_code_prefix : 582\n",
            "seller_city : 582\n",
            "seller_state : 582\n",
            "13062\n"
          ],
          "name": "stdout"
        }
      ]
    },
    {
      "cell_type": "code",
      "metadata": {
        "id": "65DM0w5TMx1l",
        "colab_type": "code",
        "colab": {}
      },
      "source": [
        "train.drop(['seller_zip_code_prefix'], axis=1, inplace=True)"
      ],
      "execution_count": 0,
      "outputs": []
    },
    {
      "cell_type": "code",
      "metadata": {
        "id": "0KK8clI2v2IE",
        "colab_type": "code",
        "colab": {}
      },
      "source": [
        "# Заполним оставшиеся NaN-значения средними для числовых признаков\n",
        "for col in train.columns:\n",
        "    # удалим id's\n",
        "    if col[-2:] == 'id':\n",
        "        train.drop([col], axis=1, inplace=True)\n",
        "    if col not in categorical and col[-2:] != 'id' and type(train.loc[0, col]) != str:\n",
        "        train[col].fillna(train[col].mean(), inplace=True)"
      ],
      "execution_count": 0,
      "outputs": []
    },
    {
      "cell_type": "markdown",
      "metadata": {
        "id": "l7unpDFZfg6O",
        "colab_type": "text"
      },
      "source": [
        "Целевой переменной положим **price** в таблице **items**.\n"
      ]
    },
    {
      "cell_type": "code",
      "metadata": {
        "id": "uJzjqHilsOcQ",
        "colab_type": "code",
        "colab": {}
      },
      "source": [
        "# Применим OHE ко всем категориальным признакам\n",
        "\n",
        "# Для уменьшения датасета из кат признаков оставим только тип товара\n",
        "small_categorical = ['product_category_name']\n",
        "\n",
        "for feature in small_categorical:\n",
        "    feature_dummies = pd.get_dummies(train[feature], prefix=feature + '_', dtype=float)\n",
        "    train = pd.concat([train, feature_dummies], axis=1)"
      ],
      "execution_count": 0,
      "outputs": []
    },
    {
      "cell_type": "code",
      "metadata": {
        "id": "yj7fXE2EOYJd",
        "colab_type": "code",
        "colab": {}
      },
      "source": [
        "train.drop(categorical, axis=1, inplace=True)"
      ],
      "execution_count": 0,
      "outputs": []
    },
    {
      "cell_type": "code",
      "metadata": {
        "id": "cnh_JZMb1w5G",
        "colab_type": "code",
        "outputId": "af882320-3bfb-4d49-8310-dc7a6514fed2",
        "colab": {
          "base_uri": "https://localhost:8080/",
          "height": 35
        }
      },
      "source": [
        "sm = 0\n",
        "for col in train.columns:\n",
        "    sm += train[col].isna().sum()\n",
        "print(sm)"
      ],
      "execution_count": 47,
      "outputs": [
        {
          "output_type": "stream",
          "text": [
            "0\n"
          ],
          "name": "stdout"
        }
      ]
    },
    {
      "cell_type": "code",
      "metadata": {
        "id": "69YOaQiA19vx",
        "colab_type": "code",
        "outputId": "21380ae2-e02b-482c-c9b7-bcaa7fd0adb7",
        "colab": {
          "base_uri": "https://localhost:8080/",
          "height": 35
        }
      },
      "source": [
        "print(train.shape)"
      ],
      "execution_count": 48,
      "outputs": [
        {
          "output_type": "stream",
          "text": [
            "(51250, 95)\n"
          ],
          "name": "stdout"
        }
      ]
    },
    {
      "cell_type": "code",
      "metadata": {
        "id": "EQkqPGfx2AMu",
        "colab_type": "code",
        "colab": {}
      },
      "source": [
        "train.to_csv(\"drive/My Drive/automl/data/categorical_less_train.csv\", index=False)"
      ],
      "execution_count": 0,
      "outputs": []
    }
  ]
}