{
  "nbformat": 4,
  "nbformat_minor": 0,
  "metadata": {
    "colab": {
      "name": "h2o-automl-handy-feature-enginering.ipynb",
      "provenance": []
    },
    "kernelspec": {
      "name": "python3",
      "display_name": "Python 3"
    },
    "accelerator": "GPU"
  },
  "cells": [
    {
      "cell_type": "code",
      "metadata": {
        "id": "DTLrIWMQUaif",
        "colab_type": "code",
        "colab": {}
      },
      "source": [
        "!pip install -f http://h2o-release.s3.amazonaws.com/h2o/latest_stable_Py.html h2o"
      ],
      "execution_count": 0,
      "outputs": []
    },
    {
      "cell_type": "code",
      "metadata": {
        "id": "Gjj50cqw5H26",
        "colab_type": "code",
        "colab": {}
      },
      "source": [
        "import pandas as pd\n",
        "\n",
        "data = pd.read_csv('drive/My Drive/categorical_less_train.csv')"
      ],
      "execution_count": 0,
      "outputs": []
    },
    {
      "cell_type": "code",
      "metadata": {
        "id": "DjrNITMP6-J3",
        "colab_type": "code",
        "colab": {}
      },
      "source": [
        "from sklearn.model_selection import train_test_split\n",
        "train, test = train_test_split(data, test_size=0.3, random_state=42)"
      ],
      "execution_count": 0,
      "outputs": []
    },
    {
      "cell_type": "code",
      "metadata": {
        "id": "O1v9JWEH9V1V",
        "colab_type": "code",
        "outputId": "56f6d1bd-4361-4e6c-9d71-124225ec03b2",
        "colab": {
          "base_uri": "https://localhost:8080/",
          "height": 837
        }
      },
      "source": [
        "from h2o.automl import H2OAutoML\n",
        "import h2o\n",
        "\n",
        "h2o.init()\n",
        "\n",
        "train = h2o.H2OFrame(train)\n",
        "\n",
        "# Выделим целевую переменную из выборки\n",
        "x = train.columns\n",
        "y = \"price\"\n",
        "x.remove(y)\n",
        "\n",
        "# Запустим модель для фиксированного числа меньших моделей (max_models = 10)\n",
        "aml = H2OAutoML(max_models=10, seed=1)\n",
        "aml.train(x=x, y=y, training_frame=train)\n",
        "\n",
        "# Посмотрим на лидерборд, найденный методом\n",
        "lb = aml.leaderboard\n",
        "lb.head(rows=lb.nrows)"
      ],
      "execution_count": 0,
      "outputs": [
        {
          "output_type": "stream",
          "text": [
            "Checking whether there is an H2O instance running at http://localhost:54321 ..... not found.\n",
            "Attempting to start a local H2O server...\n",
            "  Java Version: openjdk version \"11.0.7\" 2020-04-14; OpenJDK Runtime Environment (build 11.0.7+10-post-Ubuntu-2ubuntu218.04); OpenJDK 64-Bit Server VM (build 11.0.7+10-post-Ubuntu-2ubuntu218.04, mixed mode, sharing)\n",
            "  Starting server from /usr/local/lib/python3.6/dist-packages/h2o/backend/bin/h2o.jar\n",
            "  Ice root: /tmp/tmphzqwv3sg\n",
            "  JVM stdout: /tmp/tmphzqwv3sg/h2o_unknownUser_started_from_python.out\n",
            "  JVM stderr: /tmp/tmphzqwv3sg/h2o_unknownUser_started_from_python.err\n",
            "  Server is running at http://127.0.0.1:54321\n",
            "Connecting to H2O server at http://127.0.0.1:54321 ... successful.\n"
          ],
          "name": "stdout"
        },
        {
          "output_type": "display_data",
          "data": {
            "text/html": [
              "<div style=\"overflow:auto\"><table style=\"width:50%\"><tr><td>H2O_cluster_uptime:</td>\n",
              "<td>02 secs</td></tr>\n",
              "<tr><td>H2O_cluster_timezone:</td>\n",
              "<td>Etc/UTC</td></tr>\n",
              "<tr><td>H2O_data_parsing_timezone:</td>\n",
              "<td>UTC</td></tr>\n",
              "<tr><td>H2O_cluster_version:</td>\n",
              "<td>3.30.0.4</td></tr>\n",
              "<tr><td>H2O_cluster_version_age:</td>\n",
              "<td>3 days </td></tr>\n",
              "<tr><td>H2O_cluster_name:</td>\n",
              "<td>H2O_from_python_unknownUser_ke7s00</td></tr>\n",
              "<tr><td>H2O_cluster_total_nodes:</td>\n",
              "<td>1</td></tr>\n",
              "<tr><td>H2O_cluster_free_memory:</td>\n",
              "<td>3.180 Gb</td></tr>\n",
              "<tr><td>H2O_cluster_total_cores:</td>\n",
              "<td>2</td></tr>\n",
              "<tr><td>H2O_cluster_allowed_cores:</td>\n",
              "<td>2</td></tr>\n",
              "<tr><td>H2O_cluster_status:</td>\n",
              "<td>accepting new members, healthy</td></tr>\n",
              "<tr><td>H2O_connection_url:</td>\n",
              "<td>http://127.0.0.1:54321</td></tr>\n",
              "<tr><td>H2O_connection_proxy:</td>\n",
              "<td>{\"http\": null, \"https\": null}</td></tr>\n",
              "<tr><td>H2O_internal_security:</td>\n",
              "<td>False</td></tr>\n",
              "<tr><td>H2O_API_Extensions:</td>\n",
              "<td>Amazon S3, XGBoost, Algos, AutoML, Core V3, TargetEncoder, Core V4</td></tr>\n",
              "<tr><td>Python_version:</td>\n",
              "<td>3.6.9 final</td></tr></table></div>"
            ],
            "text/plain": [
              "--------------------------  ------------------------------------------------------------------\n",
              "H2O_cluster_uptime:         02 secs\n",
              "H2O_cluster_timezone:       Etc/UTC\n",
              "H2O_data_parsing_timezone:  UTC\n",
              "H2O_cluster_version:        3.30.0.4\n",
              "H2O_cluster_version_age:    3 days\n",
              "H2O_cluster_name:           H2O_from_python_unknownUser_ke7s00\n",
              "H2O_cluster_total_nodes:    1\n",
              "H2O_cluster_free_memory:    3.180 Gb\n",
              "H2O_cluster_total_cores:    2\n",
              "H2O_cluster_allowed_cores:  2\n",
              "H2O_cluster_status:         accepting new members, healthy\n",
              "H2O_connection_url:         http://127.0.0.1:54321\n",
              "H2O_connection_proxy:       {\"http\": null, \"https\": null}\n",
              "H2O_internal_security:      False\n",
              "H2O_API_Extensions:         Amazon S3, XGBoost, Algos, AutoML, Core V3, TargetEncoder, Core V4\n",
              "Python_version:             3.6.9 final\n",
              "--------------------------  ------------------------------------------------------------------"
            ]
          },
          "metadata": {
            "tags": []
          }
        },
        {
          "output_type": "stream",
          "text": [
            "Parse progress: |█████████████████████████████████████████████████████████| 100%\n",
            "AutoML progress: |████████████████████████████████████████████████████████| 100%\n"
          ],
          "name": "stdout"
        },
        {
          "output_type": "display_data",
          "data": {
            "text/html": [
              "<table>\n",
              "<thead>\n",
              "<tr><th>model_id                                           </th><th style=\"text-align: right;\">  mean_residual_deviance</th><th style=\"text-align: right;\">    rmse</th><th style=\"text-align: right;\">     mse</th><th style=\"text-align: right;\">    mae</th><th style=\"text-align: right;\">     rmsle</th></tr>\n",
              "</thead>\n",
              "<tbody>\n",
              "<tr><td>StackedEnsemble_AllModels_AutoML_20200604_153207   </td><td style=\"text-align: right;\">                 3772.89</td><td style=\"text-align: right;\"> 61.4239</td><td style=\"text-align: right;\"> 3772.89</td><td style=\"text-align: right;\">24.9328</td><td style=\"text-align: right;\">nan       </td></tr>\n",
              "<tr><td>StackedEnsemble_BestOfFamily_AutoML_20200604_153207</td><td style=\"text-align: right;\">                 3810.55</td><td style=\"text-align: right;\"> 61.7297</td><td style=\"text-align: right;\"> 3810.55</td><td style=\"text-align: right;\">24.9196</td><td style=\"text-align: right;\">nan       </td></tr>\n",
              "<tr><td>GBM_1_AutoML_20200604_153207                       </td><td style=\"text-align: right;\">                 4205.82</td><td style=\"text-align: right;\"> 64.8523</td><td style=\"text-align: right;\"> 4205.82</td><td style=\"text-align: right;\">28.2253</td><td style=\"text-align: right;\">nan       </td></tr>\n",
              "<tr><td>GBM_4_AutoML_20200604_153207                       </td><td style=\"text-align: right;\">                 4246.47</td><td style=\"text-align: right;\"> 65.165 </td><td style=\"text-align: right;\"> 4246.47</td><td style=\"text-align: right;\">26.502 </td><td style=\"text-align: right;\">nan       </td></tr>\n",
              "<tr><td>GBM_3_AutoML_20200604_153207                       </td><td style=\"text-align: right;\">                 4413.88</td><td style=\"text-align: right;\"> 66.437 </td><td style=\"text-align: right;\"> 4413.88</td><td style=\"text-align: right;\">28.8101</td><td style=\"text-align: right;\">nan       </td></tr>\n",
              "<tr><td>GBM_2_AutoML_20200604_153207                       </td><td style=\"text-align: right;\">                 4495.36</td><td style=\"text-align: right;\"> 67.0475</td><td style=\"text-align: right;\"> 4495.36</td><td style=\"text-align: right;\">29.9672</td><td style=\"text-align: right;\">nan       </td></tr>\n",
              "<tr><td>DRF_1_AutoML_20200604_153207                       </td><td style=\"text-align: right;\">                 4781.26</td><td style=\"text-align: right;\"> 69.1467</td><td style=\"text-align: right;\"> 4781.26</td><td style=\"text-align: right;\">24.1755</td><td style=\"text-align: right;\">  0.336173</td></tr>\n",
              "<tr><td>XGBoost_2_AutoML_20200604_153207                   </td><td style=\"text-align: right;\">                 4995.99</td><td style=\"text-align: right;\"> 70.6823</td><td style=\"text-align: right;\"> 4995.99</td><td style=\"text-align: right;\">27.84  </td><td style=\"text-align: right;\">nan       </td></tr>\n",
              "<tr><td>XGBoost_3_AutoML_20200604_153207                   </td><td style=\"text-align: right;\">                 5609.42</td><td style=\"text-align: right;\"> 74.8961</td><td style=\"text-align: right;\"> 5609.42</td><td style=\"text-align: right;\">33.2037</td><td style=\"text-align: right;\">nan       </td></tr>\n",
              "<tr><td>XGBoost_1_AutoML_20200604_153207                   </td><td style=\"text-align: right;\">                 5653.4 </td><td style=\"text-align: right;\"> 75.1891</td><td style=\"text-align: right;\"> 5653.4 </td><td style=\"text-align: right;\">30.1691</td><td style=\"text-align: right;\">nan       </td></tr>\n",
              "<tr><td>GBM_5_AutoML_20200604_153207                       </td><td style=\"text-align: right;\">                 6604.23</td><td style=\"text-align: right;\"> 81.2664</td><td style=\"text-align: right;\"> 6604.23</td><td style=\"text-align: right;\">32.1875</td><td style=\"text-align: right;\">nan       </td></tr>\n",
              "<tr><td>GLM_1_AutoML_20200604_153207                       </td><td style=\"text-align: right;\">                23765.6 </td><td style=\"text-align: right;\">154.161 </td><td style=\"text-align: right;\">23765.6 </td><td style=\"text-align: right;\">70.5567</td><td style=\"text-align: right;\">  0.790777</td></tr>\n",
              "</tbody>\n",
              "</table>"
            ]
          },
          "metadata": {
            "tags": []
          }
        },
        {
          "output_type": "execute_result",
          "data": {
            "text/plain": [
              ""
            ]
          },
          "metadata": {
            "tags": []
          },
          "execution_count": 7
        }
      ]
    },
    {
      "cell_type": "code",
      "metadata": {
        "id": "fVBFH1gxL8Yx",
        "colab_type": "code",
        "outputId": "0349d77f-847b-42b7-add2-ca495b1791f2",
        "colab": {
          "base_uri": "https://localhost:8080/",
          "height": 34
        }
      },
      "source": [
        "test = h2o.H2OFrame(test)"
      ],
      "execution_count": 0,
      "outputs": [
        {
          "output_type": "stream",
          "text": [
            "Parse progress: |█████████████████████████████████████████████████████████| 100%\n"
          ],
          "name": "stdout"
        }
      ]
    },
    {
      "cell_type": "code",
      "metadata": {
        "id": "o1kB4LdEQCqE",
        "colab_type": "code",
        "colab": {}
      },
      "source": [
        "pred = aml.predict(test)"
      ],
      "execution_count": 0,
      "outputs": []
    },
    {
      "cell_type": "code",
      "metadata": {
        "id": "o-CMCWzxaaGr",
        "colab_type": "code",
        "outputId": "77c93b56-64a2-4dbb-9e58-bb9d4b9bdf6c",
        "colab": {
          "base_uri": "https://localhost:8080/",
          "height": 85
        }
      },
      "source": [
        "import numpy as np\n",
        "from sklearn.metrics import r2_score\n",
        "from sklearn.metrics import mean_absolute_error\n",
        "\n",
        "print(\"MSE :\",((test[\"price\"] - pred) ** 2).sum() / pred.shape[0])\n",
        "print(\"RMSE :\",np.sqrt(((test[\"price\"] - pred) ** 2).sum() / pred.shape[0]))\n",
        "print(\"R^2 :\", r2_score(test[\"price\"].as_data_frame(),pred.as_data_frame()))\n",
        "print(\"MAE :\", mean_absolute_error(test[\"price\"].as_data_frame(),pred.as_data_frame()))"
      ],
      "execution_count": 0,
      "outputs": [
        {
          "output_type": "stream",
          "text": [
            "MSE : 3947.7434341904227\n",
            "RMSE : 62.83107061152486\n",
            "R^2 : 0.8970200201861006\n",
            "MAE : 23.631139129996125\n"
          ],
          "name": "stdout"
        }
      ]
    },
    {
      "cell_type": "code",
      "metadata": {
        "id": "DDW-UTOwuFHm",
        "colab_type": "code",
        "colab": {}
      },
      "source": [
        "perf = aml.leader.model_performance(test)\n"
      ],
      "execution_count": 0,
      "outputs": []
    },
    {
      "cell_type": "code",
      "metadata": {
        "id": "9S8lERbyLpBZ",
        "colab_type": "code",
        "outputId": "7b3ad4d7-efe3-4bff-85ab-e7532c97413f",
        "colab": {
          "base_uri": "https://localhost:8080/",
          "height": 272
        }
      },
      "source": [
        "perf.show()"
      ],
      "execution_count": 0,
      "outputs": [
        {
          "output_type": "stream",
          "text": [
            "\n",
            "ModelMetricsRegressionGLM: stackedensemble\n",
            "** Reported on test data. **\n",
            "\n",
            "MSE: 3947.7434259530573\n",
            "RMSE: 62.83107054597317\n",
            "MAE: 23.631139088370787\n",
            "RMSLE: NaN\n",
            "R^2: 0.8970200201739906\n",
            "Mean Residual Deviance: 3947.7434259530573\n",
            "Null degrees of freedom: 15375\n",
            "Residual degrees of freedom: 15369\n",
            "Null deviance: 589448280.038665\n",
            "Residual deviance: 60700502.91745421\n",
            "AIC: 170978.30710251734\n"
          ],
          "name": "stdout"
        }
      ]
    },
    {
      "cell_type": "code",
      "metadata": {
        "id": "EuVqh2QVwJtT",
        "colab_type": "code",
        "outputId": "5b641717-cc52-4a11-b3f4-3baa5628640e",
        "colab": {
          "base_uri": "https://localhost:8080/",
          "height": 629
        }
      },
      "source": [
        "aml.leader"
      ],
      "execution_count": 0,
      "outputs": [
        {
          "output_type": "stream",
          "text": [
            "Model Details\n",
            "=============\n",
            "H2OStackedEnsembleEstimator :  Stacked Ensemble\n",
            "Model Key:  StackedEnsemble_AllModels_AutoML_20200604_153207\n",
            "\n",
            "No model summary for this model\n",
            "\n",
            "ModelMetricsRegressionGLM: stackedensemble\n",
            "** Reported on train data. **\n",
            "\n",
            "MSE: 642.3735107888094\n",
            "RMSE: 25.345088494396887\n",
            "MAE: 14.84647049175607\n",
            "RMSLE: 0.2860816943309105\n",
            "R^2: 0.9828491259337216\n",
            "Mean Residual Deviance: 642.3735107888094\n",
            "Null degrees of freedom: 10073\n",
            "Residual degrees of freedom: 10067\n",
            "Null deviance: 377324431.690402\n",
            "Residual deviance: 6471270.747686466\n",
            "AIC: 93734.89541180973\n",
            "\n",
            "ModelMetricsRegressionGLM: stackedensemble\n",
            "** Reported on cross-validation data. **\n",
            "\n",
            "MSE: 3772.889416446276\n",
            "RMSE: 61.42385055046839\n",
            "MAE: 24.932760093066427\n",
            "RMSLE: NaN\n",
            "R^2: 0.9002865974494124\n",
            "Mean Residual Deviance: 3772.889416446276\n",
            "Null degrees of freedom: 35876\n",
            "Residual degrees of freedom: 35870\n",
            "Null deviance: 1357529486.0744522\n",
            "Residual deviance: 135359953.59384304\n",
            "AIC: 397299.0079256996\n"
          ],
          "name": "stdout"
        },
        {
          "output_type": "execute_result",
          "data": {
            "text/plain": [
              ""
            ]
          },
          "metadata": {
            "tags": []
          },
          "execution_count": 16
        }
      ]
    },
    {
      "cell_type": "code",
      "metadata": {
        "id": "Xw5LoY-c1A0-",
        "colab_type": "code",
        "colab": {}
      },
      "source": [
        "# Получим идентификаторы моделей с лидерборда\n",
        "model_ids = list(aml.leaderboard['model_id'].as_data_frame().iloc[:,0])\n",
        "# Рассмотрим GBM_1 для примера\n",
        "m = h2o.get_model([mid for mid in model_ids if \"GBM_1\" in mid][0])  "
      ],
      "execution_count": 0,
      "outputs": []
    },
    {
      "cell_type": "code",
      "metadata": {
        "id": "b-rl0A1KcoGc",
        "colab_type": "code",
        "outputId": "86da92e8-102d-4247-f73e-98d5edaa5238",
        "colab": {
          "base_uri": "https://localhost:8080/",
          "height": 221
        }
      },
      "source": [
        "model_ids"
      ],
      "execution_count": 0,
      "outputs": [
        {
          "output_type": "execute_result",
          "data": {
            "text/plain": [
              "['StackedEnsemble_AllModels_AutoML_20200604_153207',\n",
              " 'StackedEnsemble_BestOfFamily_AutoML_20200604_153207',\n",
              " 'GBM_1_AutoML_20200604_153207',\n",
              " 'GBM_4_AutoML_20200604_153207',\n",
              " 'GBM_3_AutoML_20200604_153207',\n",
              " 'GBM_2_AutoML_20200604_153207',\n",
              " 'DRF_1_AutoML_20200604_153207',\n",
              " 'XGBoost_2_AutoML_20200604_153207',\n",
              " 'XGBoost_3_AutoML_20200604_153207',\n",
              " 'XGBoost_1_AutoML_20200604_153207',\n",
              " 'GBM_5_AutoML_20200604_153207',\n",
              " 'GLM_1_AutoML_20200604_153207']"
            ]
          },
          "metadata": {
            "tags": []
          },
          "execution_count": 45
        }
      ]
    },
    {
      "cell_type": "code",
      "metadata": {
        "id": "Wufm5lMAw6y6",
        "colab_type": "code",
        "outputId": "a514cddb-e9ce-47b8-d716-5972fae41bc2",
        "colab": {
          "base_uri": "https://localhost:8080/",
          "height": 114
        }
      },
      "source": [
        "# Выведем показатели гиперпараметров, найденные в результате автоматизации\n",
        "h2o.get_model(model_ids[2]).summary()"
      ],
      "execution_count": 0,
      "outputs": [
        {
          "output_type": "stream",
          "text": [
            "\n",
            "Model Summary: \n"
          ],
          "name": "stdout"
        },
        {
          "output_type": "display_data",
          "data": {
            "text/html": [
              "<div>\n",
              "<style scoped>\n",
              "    .dataframe tbody tr th:only-of-type {\n",
              "        vertical-align: middle;\n",
              "    }\n",
              "\n",
              "    .dataframe tbody tr th {\n",
              "        vertical-align: top;\n",
              "    }\n",
              "\n",
              "    .dataframe thead th {\n",
              "        text-align: right;\n",
              "    }\n",
              "</style>\n",
              "<table border=\"1\" class=\"dataframe\">\n",
              "  <thead>\n",
              "    <tr style=\"text-align: right;\">\n",
              "      <th></th>\n",
              "      <th></th>\n",
              "      <th>number_of_trees</th>\n",
              "      <th>number_of_internal_trees</th>\n",
              "      <th>model_size_in_bytes</th>\n",
              "      <th>min_depth</th>\n",
              "      <th>max_depth</th>\n",
              "      <th>mean_depth</th>\n",
              "      <th>min_leaves</th>\n",
              "      <th>max_leaves</th>\n",
              "      <th>mean_leaves</th>\n",
              "    </tr>\n",
              "  </thead>\n",
              "  <tbody>\n",
              "    <tr>\n",
              "      <th>0</th>\n",
              "      <td></td>\n",
              "      <td>327.0</td>\n",
              "      <td>327.0</td>\n",
              "      <td>230375.0</td>\n",
              "      <td>6.0</td>\n",
              "      <td>6.0</td>\n",
              "      <td>6.0</td>\n",
              "      <td>21.0</td>\n",
              "      <td>63.0</td>\n",
              "      <td>48.342506</td>\n",
              "    </tr>\n",
              "  </tbody>\n",
              "</table>\n",
              "</div>"
            ],
            "text/plain": [
              "     number_of_trees  ...  max_leaves  mean_leaves\n",
              "0              327.0  ...        63.0    48.342506\n",
              "\n",
              "[1 rows x 10 columns]"
            ]
          },
          "metadata": {
            "tags": []
          }
        },
        {
          "output_type": "execute_result",
          "data": {
            "text/plain": [
              ""
            ]
          },
          "metadata": {
            "tags": []
          },
          "execution_count": 52
        }
      ]
    },
    {
      "cell_type": "code",
      "metadata": {
        "id": "xpEJWiWi51Bd",
        "colab_type": "code",
        "outputId": "c38ccde7-c111-4b8d-ff49-e835e20da7d8",
        "colab": {
          "base_uri": "https://localhost:8080/",
          "height": 1000
        }
      },
      "source": [
        "# Рассмотрим преобразования параметров в результирующей модели\n",
        "for key in m.params.keys():\n",
        "  print(key, \" : \",m.params[key],end=\"\\n\\n\")"
      ],
      "execution_count": 0,
      "outputs": [
        {
          "output_type": "stream",
          "text": [
            "model_id  :  {'default': None, 'actual': {'__meta': {'schema_version': 3, 'schema_name': 'ModelKeyV3', 'schema_type': 'Key<Model>'}, 'name': 'GBM_1_AutoML_20200604_153207', 'type': 'Key<Model>', 'URL': '/3/Models/GBM_1_AutoML_20200604_153207'}}\n",
            "\n",
            "training_frame  :  {'default': None, 'actual': {'__meta': {'schema_version': 3, 'schema_name': 'FrameKeyV3', 'schema_type': 'Key<Frame>'}, 'name': 'automl_training_Key_Frame__upload_ba40956abb6edc567fb2239348948d1.hex', 'type': 'Key<Frame>', 'URL': '/3/Frames/automl_training_Key_Frame__upload_ba40956abb6edc567fb2239348948d1.hex'}}\n",
            "\n",
            "validation_frame  :  {'default': None, 'actual': None}\n",
            "\n",
            "nfolds  :  {'default': 0, 'actual': 5}\n",
            "\n",
            "keep_cross_validation_models  :  {'default': True, 'actual': False}\n",
            "\n",
            "keep_cross_validation_predictions  :  {'default': False, 'actual': True}\n",
            "\n",
            "keep_cross_validation_fold_assignment  :  {'default': False, 'actual': False}\n",
            "\n",
            "score_each_iteration  :  {'default': False, 'actual': False}\n",
            "\n",
            "score_tree_interval  :  {'default': 0, 'actual': 5}\n",
            "\n",
            "fold_assignment  :  {'default': 'AUTO', 'actual': 'Modulo'}\n",
            "\n",
            "fold_column  :  {'default': None, 'actual': None}\n",
            "\n",
            "response_column  :  {'default': None, 'actual': {'__meta': {'schema_version': 3, 'schema_name': 'ColSpecifierV3', 'schema_type': 'VecSpecifier'}, 'column_name': 'price', 'is_member_of_frames': None}}\n",
            "\n",
            "ignored_columns  :  {'default': None, 'actual': []}\n",
            "\n",
            "ignore_const_cols  :  {'default': True, 'actual': True}\n",
            "\n",
            "offset_column  :  {'default': None, 'actual': None}\n",
            "\n",
            "weights_column  :  {'default': None, 'actual': None}\n",
            "\n",
            "balance_classes  :  {'default': False, 'actual': False}\n",
            "\n",
            "class_sampling_factors  :  {'default': None, 'actual': None}\n",
            "\n",
            "max_after_balance_size  :  {'default': 5.0, 'actual': 5.0}\n",
            "\n",
            "max_confusion_matrix_size  :  {'default': 20, 'actual': 20}\n",
            "\n",
            "max_hit_ratio_k  :  {'default': 0, 'actual': 0}\n",
            "\n",
            "ntrees  :  {'default': 50, 'actual': 327}\n",
            "\n",
            "max_depth  :  {'default': 5, 'actual': 6}\n",
            "\n",
            "min_rows  :  {'default': 10.0, 'actual': 1.0}\n",
            "\n",
            "nbins  :  {'default': 20, 'actual': 20}\n",
            "\n",
            "nbins_top_level  :  {'default': 1024, 'actual': 1024}\n",
            "\n",
            "nbins_cats  :  {'default': 1024, 'actual': 1024}\n",
            "\n",
            "r2_stopping  :  {'default': 1.7976931348623157e+308, 'actual': 1.7976931348623157e+308}\n",
            "\n",
            "stopping_rounds  :  {'default': 0, 'actual': 0}\n",
            "\n",
            "stopping_metric  :  {'default': 'AUTO', 'actual': 'deviance'}\n",
            "\n",
            "stopping_tolerance  :  {'default': 0.001, 'actual': 0.005279489612062041}\n",
            "\n",
            "max_runtime_secs  :  {'default': 0.0, 'actual': 0.0}\n",
            "\n",
            "seed  :  {'default': -1, 'actual': 6}\n",
            "\n",
            "build_tree_one_node  :  {'default': False, 'actual': False}\n",
            "\n",
            "learn_rate  :  {'default': 0.1, 'actual': 0.1}\n",
            "\n",
            "learn_rate_annealing  :  {'default': 1.0, 'actual': 1.0}\n",
            "\n",
            "distribution  :  {'default': 'AUTO', 'actual': 'gaussian'}\n",
            "\n",
            "quantile_alpha  :  {'default': 0.5, 'actual': 0.5}\n",
            "\n",
            "tweedie_power  :  {'default': 1.5, 'actual': 1.5}\n",
            "\n",
            "huber_alpha  :  {'default': 0.9, 'actual': 0.9}\n",
            "\n",
            "checkpoint  :  {'default': None, 'actual': None}\n",
            "\n",
            "sample_rate  :  {'default': 1.0, 'actual': 0.8}\n",
            "\n",
            "sample_rate_per_class  :  {'default': None, 'actual': None}\n",
            "\n",
            "col_sample_rate  :  {'default': 1.0, 'actual': 0.8}\n",
            "\n",
            "col_sample_rate_change_per_level  :  {'default': 1.0, 'actual': 1.0}\n",
            "\n",
            "col_sample_rate_per_tree  :  {'default': 1.0, 'actual': 0.8}\n",
            "\n",
            "min_split_improvement  :  {'default': 1e-05, 'actual': 1e-05}\n",
            "\n",
            "histogram_type  :  {'default': 'AUTO', 'actual': 'AUTO'}\n",
            "\n",
            "max_abs_leafnode_pred  :  {'default': 1.7976931348623157e+308, 'actual': 1.7976931348623157e+308}\n",
            "\n",
            "pred_noise_bandwidth  :  {'default': 0.0, 'actual': 0.0}\n",
            "\n",
            "categorical_encoding  :  {'default': 'AUTO', 'actual': 'AUTO'}\n",
            "\n",
            "calibrate_model  :  {'default': False, 'actual': False}\n",
            "\n",
            "calibration_frame  :  {'default': None, 'actual': None}\n",
            "\n",
            "custom_metric_func  :  {'default': None, 'actual': None}\n",
            "\n",
            "custom_distribution_func  :  {'default': None, 'actual': None}\n",
            "\n",
            "export_checkpoints_dir  :  {'default': None, 'actual': None}\n",
            "\n",
            "monotone_constraints  :  {'default': None, 'actual': None}\n",
            "\n",
            "check_constant_response  :  {'default': True, 'actual': True}\n",
            "\n"
          ],
          "name": "stdout"
        }
      ]
    },
    {
      "cell_type": "code",
      "metadata": {
        "id": "YdLqfUrj3Zrl",
        "colab_type": "code",
        "colab": {}
      },
      "source": [
        ""
      ],
      "execution_count": 0,
      "outputs": []
    }
  ]
}