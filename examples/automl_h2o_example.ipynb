{
  "nbformat": 4,
  "nbformat_minor": 0,
  "metadata": {
    "colab": {
      "name": "automl-h2o-example.ipynb",
      "provenance": [],
      "collapsed_sections": []
    },
    "kernelspec": {
      "name": "python3",
      "display_name": "Python 3"
    }
  },
  "cells": [
    {
      "cell_type": "markdown",
      "metadata": {
        "id": "c1da9t95qSWB",
        "colab_type": "text"
      },
      "source": [
        "## **Пример использования H2O**\n",
        "Выполнен на основе [гайда](https://towardsdatascience.com/artificial-intelligence-made-easy-187ecb90c299)."
      ]
    },
    {
      "cell_type": "code",
      "metadata": {
        "id": "L6WHyh_6pdPe",
        "colab_type": "code",
        "colab": {}
      },
      "source": [
        "!pip install h2o"
      ],
      "execution_count": 0,
      "outputs": []
    },
    {
      "cell_type": "code",
      "metadata": {
        "id": "XqOxf3mBvMF1",
        "colab_type": "code",
        "colab": {
          "base_uri": "https://localhost:8080/",
          "height": 128
        },
        "outputId": "7bba5045-95ef-48d5-eb88-ee132641d192"
      },
      "source": [
        "from google.colab import drive\n",
        "drive.mount('/content/drive')"
      ],
      "execution_count": 16,
      "outputs": [
        {
          "output_type": "stream",
          "text": [
            "Go to this URL in a browser: https://accounts.google.com/o/oauth2/auth?client_id=947318989803-6bn6qk8qdgf4n4g3pfee6491hc0brc4i.apps.googleusercontent.com&redirect_uri=urn%3aietf%3awg%3aoauth%3a2.0%3aoob&response_type=code&scope=email%20https%3a%2f%2fwww.googleapis.com%2fauth%2fdocs.test%20https%3a%2f%2fwww.googleapis.com%2fauth%2fdrive%20https%3a%2f%2fwww.googleapis.com%2fauth%2fdrive.photos.readonly%20https%3a%2f%2fwww.googleapis.com%2fauth%2fpeopleapi.readonly\n",
            "\n",
            "Enter your authorization code:\n",
            "··········\n",
            "Mounted at /content/drive\n"
          ],
          "name": "stdout"
        }
      ]
    },
    {
      "cell_type": "code",
      "metadata": {
        "id": "_omzv6nJqRZM",
        "colab_type": "code",
        "colab": {
          "base_uri": "https://localhost:8080/",
          "height": 399
        },
        "outputId": "92c2f4dd-8592-4a3c-e6bb-413b00a864bd"
      },
      "source": [
        "import sklearn\n",
        "import pandas as pd\n",
        "from matplotlib import pyplot\n",
        "import matplotlib.pyplot as plt\n",
        "import numpy as np\n",
        "from sklearn.datasets import load_breast_cancer\n",
        "\n",
        "# Возьмем какой-нибудь датасет из sklearn для примера\n",
        "cancer = load_breast_cancer()\n",
        "df = pd.DataFrame(np.c_[cancer['data'], cancer['target']],\n",
        "                  columns= np.append(cancer['feature_names'], ['target']))\n",
        "print(df.head())\n",
        "print(\"~\" * 15)\n",
        "print(\"Колонки датасета:\")\n",
        "print(df.columns)"
      ],
      "execution_count": 8,
      "outputs": [
        {
          "output_type": "stream",
          "text": [
            "   mean radius  mean texture  ...  worst fractal dimension  target\n",
            "0        17.99         10.38  ...                  0.11890     0.0\n",
            "1        20.57         17.77  ...                  0.08902     0.0\n",
            "2        19.69         21.25  ...                  0.08758     0.0\n",
            "3        11.42         20.38  ...                  0.17300     0.0\n",
            "4        20.29         14.34  ...                  0.07678     0.0\n",
            "\n",
            "[5 rows x 31 columns]\n",
            "~~~~~~~~~~~~~~~\n",
            "Колонки датасета:\n",
            "Index(['mean radius', 'mean texture', 'mean perimeter', 'mean area',\n",
            "       'mean smoothness', 'mean compactness', 'mean concavity',\n",
            "       'mean concave points', 'mean symmetry', 'mean fractal dimension',\n",
            "       'radius error', 'texture error', 'perimeter error', 'area error',\n",
            "       'smoothness error', 'compactness error', 'concavity error',\n",
            "       'concave points error', 'symmetry error', 'fractal dimension error',\n",
            "       'worst radius', 'worst texture', 'worst perimeter', 'worst area',\n",
            "       'worst smoothness', 'worst compactness', 'worst concavity',\n",
            "       'worst concave points', 'worst symmetry', 'worst fractal dimension',\n",
            "       'target'],\n",
            "      dtype='object')\n"
          ],
          "name": "stdout"
        }
      ]
    },
    {
      "cell_type": "code",
      "metadata": {
        "id": "mIpZISidtp0_",
        "colab_type": "code",
        "colab": {
          "base_uri": "https://localhost:8080/",
          "height": 72
        },
        "outputId": "a22239fa-6c74-4194-ef39-55866f2190f8"
      },
      "source": [
        "# Для простоты выделим случайные 5 колонок\n",
        "random_cols = np.random.randint(low=0, high=df.columns.shape[0], size=5)\n",
        "print(df.columns[random_cols])\n",
        "chosen_cols = df.columns[random_cols]\n",
        "data = df.loc[:, chosen_cols]"
      ],
      "execution_count": 11,
      "outputs": [
        {
          "output_type": "stream",
          "text": [
            "Index(['worst fractal dimension', 'concavity error', 'mean fractal dimension',\n",
            "       'worst smoothness', 'perimeter error'],\n",
            "      dtype='object')\n"
          ],
          "name": "stdout"
        }
      ]
    },
    {
      "cell_type": "code",
      "metadata": {
        "id": "tAxzYQqWuxjS",
        "colab_type": "code",
        "colab": {
          "base_uri": "https://localhost:8080/",
          "height": 35
        },
        "outputId": "8685e32b-553e-4f08-f90d-1941007fc9a2"
      },
      "source": [
        "import h2o\n",
        "\n",
        "# Сохраним эти данные и подгрузим в формате H2O\n",
        "data.to_csv('drive/My Drive/automl/data-example.csv', index=False)\n",
        "\n",
        "df = h2o.import_file(\"drive/My Drive/automl/data-example.csv\")"
      ],
      "execution_count": 19,
      "outputs": [
        {
          "output_type": "stream",
          "text": [
            "Parse progress: |█████████████████████████████████████████████████████████| 100%\n"
          ],
          "name": "stdout"
        }
      ]
    },
    {
      "cell_type": "code",
      "metadata": {
        "id": "ZqzDStZsppzm",
        "colab_type": "code",
        "colab": {
          "base_uri": "https://localhost:8080/",
          "height": 779
        },
        "outputId": "c2f9c4af-f9d8-42c0-ae28-90f320a8f448"
      },
      "source": [
        "# Инициализация сервера\n",
        "h2o.init(nthreads = -1, max_mem_size = 8)\n",
        "h2o.connect()"
      ],
      "execution_count": 20,
      "outputs": [
        {
          "output_type": "stream",
          "text": [
            "Checking whether there is an H2O instance running at http://localhost:54321 . connected.\n"
          ],
          "name": "stdout"
        },
        {
          "output_type": "display_data",
          "data": {
            "text/html": [
              "<div style=\"overflow:auto\"><table style=\"width:50%\"><tr><td>H2O_cluster_uptime:</td>\n",
              "<td>24 mins 22 secs</td></tr>\n",
              "<tr><td>H2O_cluster_timezone:</td>\n",
              "<td>Etc/UTC</td></tr>\n",
              "<tr><td>H2O_data_parsing_timezone:</td>\n",
              "<td>UTC</td></tr>\n",
              "<tr><td>H2O_cluster_version:</td>\n",
              "<td>3.30.0.3</td></tr>\n",
              "<tr><td>H2O_cluster_version_age:</td>\n",
              "<td>16 days </td></tr>\n",
              "<tr><td>H2O_cluster_name:</td>\n",
              "<td>H2O_from_python_unknownUser_vi8njh</td></tr>\n",
              "<tr><td>H2O_cluster_total_nodes:</td>\n",
              "<td>1</td></tr>\n",
              "<tr><td>H2O_cluster_free_memory:</td>\n",
              "<td>8.000 Gb</td></tr>\n",
              "<tr><td>H2O_cluster_total_cores:</td>\n",
              "<td>2</td></tr>\n",
              "<tr><td>H2O_cluster_allowed_cores:</td>\n",
              "<td>2</td></tr>\n",
              "<tr><td>H2O_cluster_status:</td>\n",
              "<td>locked, healthy</td></tr>\n",
              "<tr><td>H2O_connection_url:</td>\n",
              "<td>http://localhost:54321</td></tr>\n",
              "<tr><td>H2O_connection_proxy:</td>\n",
              "<td>{\"http\": null, \"https\": null}</td></tr>\n",
              "<tr><td>H2O_internal_security:</td>\n",
              "<td>False</td></tr>\n",
              "<tr><td>H2O_API_Extensions:</td>\n",
              "<td>Amazon S3, XGBoost, Algos, AutoML, Core V3, TargetEncoder, Core V4</td></tr>\n",
              "<tr><td>Python_version:</td>\n",
              "<td>3.6.9 final</td></tr></table></div>"
            ],
            "text/plain": [
              "--------------------------  ------------------------------------------------------------------\n",
              "H2O_cluster_uptime:         24 mins 22 secs\n",
              "H2O_cluster_timezone:       Etc/UTC\n",
              "H2O_data_parsing_timezone:  UTC\n",
              "H2O_cluster_version:        3.30.0.3\n",
              "H2O_cluster_version_age:    16 days\n",
              "H2O_cluster_name:           H2O_from_python_unknownUser_vi8njh\n",
              "H2O_cluster_total_nodes:    1\n",
              "H2O_cluster_free_memory:    8.000 Gb\n",
              "H2O_cluster_total_cores:    2\n",
              "H2O_cluster_allowed_cores:  2\n",
              "H2O_cluster_status:         locked, healthy\n",
              "H2O_connection_url:         http://localhost:54321\n",
              "H2O_connection_proxy:       {\"http\": null, \"https\": null}\n",
              "H2O_internal_security:      False\n",
              "H2O_API_Extensions:         Amazon S3, XGBoost, Algos, AutoML, Core V3, TargetEncoder, Core V4\n",
              "Python_version:             3.6.9 final\n",
              "--------------------------  ------------------------------------------------------------------"
            ]
          },
          "metadata": {
            "tags": []
          }
        },
        {
          "output_type": "stream",
          "text": [
            "Connecting to H2O server at http://localhost:54321 ... successful.\n"
          ],
          "name": "stdout"
        },
        {
          "output_type": "display_data",
          "data": {
            "text/html": [
              "<div style=\"overflow:auto\"><table style=\"width:50%\"><tr><td>H2O_cluster_uptime:</td>\n",
              "<td>24 mins 22 secs</td></tr>\n",
              "<tr><td>H2O_cluster_timezone:</td>\n",
              "<td>Etc/UTC</td></tr>\n",
              "<tr><td>H2O_data_parsing_timezone:</td>\n",
              "<td>UTC</td></tr>\n",
              "<tr><td>H2O_cluster_version:</td>\n",
              "<td>3.30.0.3</td></tr>\n",
              "<tr><td>H2O_cluster_version_age:</td>\n",
              "<td>16 days </td></tr>\n",
              "<tr><td>H2O_cluster_name:</td>\n",
              "<td>H2O_from_python_unknownUser_vi8njh</td></tr>\n",
              "<tr><td>H2O_cluster_total_nodes:</td>\n",
              "<td>1</td></tr>\n",
              "<tr><td>H2O_cluster_free_memory:</td>\n",
              "<td>8.000 Gb</td></tr>\n",
              "<tr><td>H2O_cluster_total_cores:</td>\n",
              "<td>2</td></tr>\n",
              "<tr><td>H2O_cluster_allowed_cores:</td>\n",
              "<td>2</td></tr>\n",
              "<tr><td>H2O_cluster_status:</td>\n",
              "<td>locked, healthy</td></tr>\n",
              "<tr><td>H2O_connection_url:</td>\n",
              "<td>http://localhost:54321</td></tr>\n",
              "<tr><td>H2O_connection_proxy:</td>\n",
              "<td>{\"http\": null, \"https\": null}</td></tr>\n",
              "<tr><td>H2O_internal_security:</td>\n",
              "<td>False</td></tr>\n",
              "<tr><td>H2O_API_Extensions:</td>\n",
              "<td>Amazon S3, XGBoost, Algos, AutoML, Core V3, TargetEncoder, Core V4</td></tr>\n",
              "<tr><td>Python_version:</td>\n",
              "<td>3.6.9 final</td></tr></table></div>"
            ],
            "text/plain": [
              "--------------------------  ------------------------------------------------------------------\n",
              "H2O_cluster_uptime:         24 mins 22 secs\n",
              "H2O_cluster_timezone:       Etc/UTC\n",
              "H2O_data_parsing_timezone:  UTC\n",
              "H2O_cluster_version:        3.30.0.3\n",
              "H2O_cluster_version_age:    16 days\n",
              "H2O_cluster_name:           H2O_from_python_unknownUser_vi8njh\n",
              "H2O_cluster_total_nodes:    1\n",
              "H2O_cluster_free_memory:    8.000 Gb\n",
              "H2O_cluster_total_cores:    2\n",
              "H2O_cluster_allowed_cores:  2\n",
              "H2O_cluster_status:         locked, healthy\n",
              "H2O_connection_url:         http://localhost:54321\n",
              "H2O_connection_proxy:       {\"http\": null, \"https\": null}\n",
              "H2O_internal_security:      False\n",
              "H2O_API_Extensions:         Amazon S3, XGBoost, Algos, AutoML, Core V3, TargetEncoder, Core V4\n",
              "Python_version:             3.6.9 final\n",
              "--------------------------  ------------------------------------------------------------------"
            ]
          },
          "metadata": {
            "tags": []
          }
        },
        {
          "output_type": "execute_result",
          "data": {
            "text/plain": [
              "<H2OConnection to http://localhost:54321, no session>"
            ]
          },
          "metadata": {
            "tags": []
          },
          "execution_count": 20
        }
      ]
    },
    {
      "cell_type": "code",
      "metadata": {
        "id": "zx5vKsQwp4VY",
        "colab_type": "code",
        "colab": {}
      },
      "source": [
        "y = 'perimeter error'\n",
        "x = list(df.columns).remove(y)"
      ],
      "execution_count": 0,
      "outputs": []
    },
    {
      "cell_type": "code",
      "metadata": {
        "id": "guzMjkzTuesy",
        "colab_type": "code",
        "colab": {
          "base_uri": "https://localhost:8080/",
          "height": 72
        },
        "outputId": "c51786d4-27a5-43b5-94fa-0b121944a04b"
      },
      "source": [
        "splits = df.split_frame(ratios=[0.7, 0.15], seed=1)\n",
        "train = splits[0]\n",
        "valid = splits[1]\n",
        "test = splits[2]\n",
        "\n",
        "print(\"Размер обучающей выборки:\", train.nrow)\n",
        "print(\"Размер валидационной выборки:\", valid.nrow)\n",
        "print(\"Размер тестовой выборки:\", test.nrow)"
      ],
      "execution_count": 24,
      "outputs": [
        {
          "output_type": "stream",
          "text": [
            "Размер обучающей выборки: 393\n",
            "Размер валидационной выборки: 89\n",
            "Размер тестовой выборки: 87\n"
          ],
          "name": "stdout"
        }
      ]
    },
    {
      "cell_type": "code",
      "metadata": {
        "id": "hj1_o4o3uk_A",
        "colab_type": "code",
        "colab": {}
      },
      "source": [
        "# Простая модель (random forest)\n",
        "from h2o.estimators.random_forest import H2ORandomForestEstimator\n",
        "rf = H2ORandomForestEstimator(seed=1)"
      ],
      "execution_count": 0,
      "outputs": []
    },
    {
      "cell_type": "code",
      "metadata": {
        "id": "Rgv3GT7jv4QN",
        "colab_type": "code",
        "colab": {
          "base_uri": "https://localhost:8080/",
          "height": 54
        },
        "outputId": "8280b568-2ed7-4334-9f1f-aa623a9a7a57"
      },
      "source": [
        "import time\n",
        "start = time.time()\n",
        "rf.train(x=x, y=y, training_frame=train)\n",
        "end = time.time()\n",
        "print(\"Обучение выполнилось за %.2f секунд.\" % (end - start))"
      ],
      "execution_count": 26,
      "outputs": [
        {
          "output_type": "stream",
          "text": [
            "drf Model Build progress: |███████████████████████████████████████████████| 100%\n",
            "Обучение выполнилось за 1.78 секунд.\n"
          ],
          "name": "stdout"
        }
      ]
    },
    {
      "cell_type": "code",
      "metadata": {
        "id": "TRe1FZGIv48z",
        "colab_type": "code",
        "colab": {
          "base_uri": "https://localhost:8080/",
          "height": 217
        },
        "outputId": "0a194b9f-494e-4c2a-a1e2-548b3d3f9af2"
      },
      "source": [
        "y_hat = rf.predict(test_data=test)\n",
        "\n",
        "rf_performance = rf.model_performance(test)\n",
        "print(rf_performance)"
      ],
      "execution_count": 27,
      "outputs": [
        {
          "output_type": "stream",
          "text": [
            "drf prediction progress: |████████████████████████████████████████████████| 100%\n",
            "\n",
            "ModelMetricsRegression: drf\n",
            "** Reported on test data. **\n",
            "\n",
            "MSE: 1.8549567888337524\n",
            "RMSE: 1.3619679837770609\n",
            "MAE: 0.987156408545615\n",
            "RMSLE: 0.3076747905658349\n",
            "Mean Residual Deviance: 1.8549567888337524\n",
            "\n"
          ],
          "name": "stdout"
        }
      ]
    },
    {
      "cell_type": "code",
      "metadata": {
        "id": "0eD2WycZv458",
        "colab_type": "code",
        "colab": {
          "base_uri": "https://localhost:8080/",
          "height": 35
        },
        "outputId": "cd89c681-a537-4f6f-f2eb-f6776700cef5"
      },
      "source": [
        "from h2o.automl import H2OAutoML\n",
        "\n",
        "aml = H2OAutoML(max_models=5, max_runtime_secs=300, seed=1)\n",
        "aml.train(x=x, y=y, training_frame=train)"
      ],
      "execution_count": 31,
      "outputs": [
        {
          "output_type": "stream",
          "text": [
            "AutoML progress: |████████████████████████████████████████████████████████| 100%\n"
          ],
          "name": "stdout"
        }
      ]
    },
    {
      "cell_type": "code",
      "metadata": {
        "id": "0vH4TdSGv42F",
        "colab_type": "code",
        "colab": {
          "base_uri": "https://localhost:8080/",
          "height": 186
        },
        "outputId": "d44d9835-4d04-49b1-940e-53292e54c3a8"
      },
      "source": [
        "lb = aml.leaderboard\n",
        "lb.head(rows=lb.nrows)"
      ],
      "execution_count": 32,
      "outputs": [
        {
          "output_type": "display_data",
          "data": {
            "text/html": [
              "<table>\n",
              "<thead>\n",
              "<tr><th>model_id                                           </th><th style=\"text-align: right;\">  mean_residual_deviance</th><th style=\"text-align: right;\">   rmse</th><th style=\"text-align: right;\">    mse</th><th style=\"text-align: right;\">    mae</th><th style=\"text-align: right;\">   rmsle</th></tr>\n",
              "</thead>\n",
              "<tbody>\n",
              "<tr><td>XGBoost_2_AutoML_20200530_091146                   </td><td style=\"text-align: right;\">                 3.03653</td><td style=\"text-align: right;\">1.74256</td><td style=\"text-align: right;\">3.03653</td><td style=\"text-align: right;\">1.1191 </td><td style=\"text-align: right;\">0.350986</td></tr>\n",
              "<tr><td>StackedEnsemble_BestOfFamily_AutoML_20200530_091146</td><td style=\"text-align: right;\">                 3.12438</td><td style=\"text-align: right;\">1.76759</td><td style=\"text-align: right;\">3.12438</td><td style=\"text-align: right;\">1.09152</td><td style=\"text-align: right;\">0.330789</td></tr>\n",
              "<tr><td>StackedEnsemble_AllModels_AutoML_20200530_091146   </td><td style=\"text-align: right;\">                 3.15944</td><td style=\"text-align: right;\">1.77748</td><td style=\"text-align: right;\">3.15944</td><td style=\"text-align: right;\">1.09337</td><td style=\"text-align: right;\">0.33025 </td></tr>\n",
              "<tr><td>DRF_1_AutoML_20200530_091146                       </td><td style=\"text-align: right;\">                 3.24955</td><td style=\"text-align: right;\">1.80265</td><td style=\"text-align: right;\">3.24955</td><td style=\"text-align: right;\">1.09593</td><td style=\"text-align: right;\">0.332442</td></tr>\n",
              "<tr><td>XGBoost_3_AutoML_20200530_091146                   </td><td style=\"text-align: right;\">                 3.39513</td><td style=\"text-align: right;\">1.84259</td><td style=\"text-align: right;\">3.39513</td><td style=\"text-align: right;\">1.16198</td><td style=\"text-align: right;\">0.360832</td></tr>\n",
              "<tr><td>XGBoost_1_AutoML_20200530_091146                   </td><td style=\"text-align: right;\">                 3.76225</td><td style=\"text-align: right;\">1.93965</td><td style=\"text-align: right;\">3.76225</td><td style=\"text-align: right;\">1.23811</td><td style=\"text-align: right;\">0.386427</td></tr>\n",
              "<tr><td>GLM_1_AutoML_20200530_091146                       </td><td style=\"text-align: right;\">                 3.8513 </td><td style=\"text-align: right;\">1.96247</td><td style=\"text-align: right;\">3.8513 </td><td style=\"text-align: right;\">1.20467</td><td style=\"text-align: right;\">0.362027</td></tr>\n",
              "</tbody>\n",
              "</table>"
            ]
          },
          "metadata": {
            "tags": []
          }
        },
        {
          "output_type": "execute_result",
          "data": {
            "text/plain": [
              ""
            ]
          },
          "metadata": {
            "tags": []
          },
          "execution_count": 32
        }
      ]
    },
    {
      "cell_type": "code",
      "metadata": {
        "id": "D9ItKkgMv4yz",
        "colab_type": "code",
        "colab": {}
      },
      "source": [
        ""
      ],
      "execution_count": 0,
      "outputs": []
    }
  ]
}